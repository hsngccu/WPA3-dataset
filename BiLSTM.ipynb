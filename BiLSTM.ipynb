{
 "cells": [
  {
   "cell_type": "code",
   "execution_count": null,
   "metadata": {},
   "outputs": [],
   "source": [
    "import os\n",
    "import torch\n",
    "from torch import Tensor, nn\n",
    "\n",
    "\n",
    "class BiLSTM(nn.Module):\n",
    "    def __init__(self, input_size, hidden_size: int, num_layers: int, num_classes):\n",
    "        super(BiLSTM, self).__init__()\n",
    "        self.hidden_size = hidden_size\n",
    "        self.num_layers = num_layers\n",
    "        self.bidirectional = True\n",
    "        self.lstm = nn.LSTM(input_size, hidden_size,\n",
    "                            num_layers, batch_first=True, bidirectional=self.bidirectional)\n",
    "        # fully connected layer\n",
    "        self.fc = nn.Linear(hidden_size*2, num_classes)\n",
    "\n",
    "    def forward(self, x):\n",
    "        # define hidden state\n",
    "        h0 = torch.zeros(self.num_layers*2, x.size(\n",
    "            0), self.hidden_size).to(x.device)\n",
    "        # define cell state\n",
    "        c0 = torch.zeros(self.num_layers*2, x.size(\n",
    "            0), self.hidden_size).to(x.device)\n",
    "        out, (h_n, h_c) = self.lstm(x, (h0, c0))\n",
    "        out = self.fc(out[:, -1, :])\n",
    "        return out"
   ]
  }
 ],
 "metadata": {
  "kernelspec": {
   "display_name": "Python 3",
   "language": "python",
   "name": "python3"
  },
  "language_info": {
   "name": "python",
   "version": "3.8.10"
  }
 },
 "nbformat": 4,
 "nbformat_minor": 2
}
