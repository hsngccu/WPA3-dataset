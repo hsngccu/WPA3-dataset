{
 "cells": [
  {
   "cell_type": "code",
   "execution_count": 40,
   "metadata": {},
   "outputs": [],
   "source": [
    "import torch\n",
    "import torch.cuda\n",
    "import os\n",
    "import time\n",
    "from datetime import datetime\n",
    "import numpy as np\n",
    "import seaborn as sns\n",
    "import matplotlib.pyplot as plt\n",
    "from torch.optim.lr_scheduler import StepLR\n",
    "from torch import Tensor, nn\n",
    "from torch.utils.data import DataLoader, TensorDataset\n",
    "from sklearn.preprocessing import MinMaxScaler\n",
    "from sklearn.model_selection import train_test_split\n",
    "import torch.nn.functional as F\n",
    "from tqdm.notebook import tqdm\n",
    "from sklearn.metrics import (\n",
    "    confusion_matrix,\n",
    "    f1_score,\n",
    "    precision_score,\n",
    "    recall_score,\n",
    ")\n",
    "\n",
    "os.environ[\"CUDA_VISIBLE_DEVICES\"] = '0'\n",
    "device = torch.device(\"cuda\" if torch.cuda.is_available() else \"cpu\")"
   ]
  },
  {
   "cell_type": "code",
   "execution_count": 25,
   "metadata": {},
   "outputs": [],
   "source": [
    "wpa3_dataset_class_list = ['BF', 'Deauth', 'SAE_CV', 'UGD', 'SAE_AF', 'TSC', 'DG', 'KRACK_DG']\n",
    "WIDS_class_list = ['benign', 'BF', 'Deauth', 'SAE_CV', 'UGD', 'SAE_AF', 'TSC', 'DG', 'KRACK_DG']\n",
    "use_feat = {\n",
    "    \"frame.len\": \"Int64\",\n",
    "    \"radiotap.length\": \"Int64\",\n",
    "    \"radiotap.dbm_antsignal\": \"Int64\",\n",
    "    \"wlan.duration\": \"Int64\",\n",
    "    \"radiotap.present.tsft\": \"Int64\",\n",
    "    \"radiotap.channel.freq\": \"Int64\",\n",
    "    \"radiotap.channel.flags.cck\": \"Int64\",\n",
    "    \"radiotap.channel.flags.ofdm\": \"Int64\",\n",
    "    \"wlan.fc.type\": \"Int64\",\n",
    "    \"wlan.fc.subtype\": \"Int64\",\n",
    "    \"wlan.fc.ds\": str,\n",
    "    \"wlan.fc.frag\": \"Int64\",\n",
    "    \"wlan.fc.retry\": \"Int64\",\n",
    "    \"wlan.fc.pwrmgt\": \"Int64\",\n",
    "    \"wlan.fc.moredata\": \"Int64\",\n",
    "    \"wlan.fc.protected\": \"Int64\",\n",
    "    \"wlan.fixed.status_code\": \"Int64\",\n",
    "    \"wlan.fixed.auth_seq\": str,\n",
    "    \"Label\": str,\n",
    "}\n",
    "\n",
    "root_path = f\"/home/sun10/WIDS\""
   ]
  },
  {
   "cell_type": "markdown",
   "metadata": {},
   "source": [
    "## Model"
   ]
  },
  {
   "cell_type": "code",
   "execution_count": 26,
   "metadata": {},
   "outputs": [],
   "source": [
    "class BiLSTM(nn.Module):\n",
    "    def __init__(self, input_size, hidden_size: int, num_layers: int, num_classes):\n",
    "        super(BiLSTM, self).__init__()\n",
    "        self.hidden_size = hidden_size\n",
    "        self.num_layers = num_layers\n",
    "        self.bidirectional = True\n",
    "        self.lstm = nn.LSTM(input_size, hidden_size,\n",
    "                            num_layers, batch_first=True, bidirectional=self.bidirectional)\n",
    "        # fully connected layer\n",
    "        self.fc = nn.Linear(hidden_size*2, num_classes)\n",
    "\n",
    "    def forward(self, x):\n",
    "        # define hidden state\n",
    "        h0 = torch.zeros(self.num_layers*2, x.size(\n",
    "            0), self.hidden_size).to(x.device)\n",
    "        # define cell state\n",
    "        c0 = torch.zeros(self.num_layers*2, x.size(\n",
    "            0), self.hidden_size).to(x.device)\n",
    "        out, (h_n, h_c) = self.lstm(x, (h0, c0))\n",
    "        out = self.fc(out[:, -1, :])\n",
    "        return out"
   ]
  },
  {
   "cell_type": "markdown",
   "metadata": {},
   "source": [
    "### Loss"
   ]
  },
  {
   "cell_type": "code",
   "execution_count": 27,
   "metadata": {},
   "outputs": [],
   "source": [
    "class FocalLoss(nn.Module):\n",
    "    def __init__(self, alpha=1, gamma=2, reduction='mean'):\n",
    "        super(FocalLoss, self).__init__()\n",
    "        self.alpha = alpha\n",
    "        self.gamma = gamma\n",
    "        self.reduction = reduction\n",
    "\n",
    "    def forward(self, inputs, targets):\n",
    "        ce_loss = F.cross_entropy(inputs, targets, reduction='none')\n",
    "        pt = torch.exp(-ce_loss)\n",
    "        focal_loss = (self.alpha * (1 - pt) ** self.gamma * ce_loss)\n",
    "\n",
    "        if self.reduction == 'mean':\n",
    "            return torch.mean(focal_loss)\n",
    "        elif self.reduction == 'sum':\n",
    "            return torch.sum(focal_loss)\n",
    "        else:\n",
    "            return focal_loss"
   ]
  },
  {
   "cell_type": "code",
   "execution_count": 42,
   "metadata": {},
   "outputs": [],
   "source": [
    "def draw_confusion_matrix(true_test, pre_test, classes, save_to: str):\n",
    "    train_cm = confusion_matrix(true_test, pre_test, labels=[\n",
    "                                i for i in range(len(classes))])\n",
    "    plt.figure(figsize=(8, 6))\n",
    "    sns.heatmap(train_cm, annot=True, cmap='Blues', fmt='d',\n",
    "                xticklabels=classes, yticklabels=classes)\n",
    "    plt.title('Confusion Matrix')\n",
    "    plt.xlabel('Predicted Label')\n",
    "    plt.ylabel('True Label')\n",
    "    plt.xticks(rotation=45, ha='right')\n",
    "    plt.tight_layout()\n",
    "    plt.savefig(f\"{save_to}/testing_confusion_matrix.png\") "
   ]
  },
  {
   "cell_type": "markdown",
   "metadata": {},
   "source": [
    "## Training"
   ]
  },
  {
   "cell_type": "code",
   "execution_count": 29,
   "metadata": {},
   "outputs": [],
   "source": [
    "class Train_LSTM:\n",
    "    def __init__(\n",
    "        self, model: nn.Module, data_path: str, label_path: str, subdir: str, hyper_parameter: dict, classes: list\n",
    "    ):\n",
    "        self.model = model\n",
    "        self.data_path = data_path\n",
    "        self.label_path = label_path\n",
    "        self.BATCH_SIZE = hyper_parameter[\"batch_size\"]\n",
    "        self.init_lr = hyper_parameter[\"learning_rate\"]\n",
    "        self.RL_STEP = hyper_parameter[\"learning_rate_step\"]\n",
    "        self.INPUT_SIZE = hyper_parameter[\"input_size\"]\n",
    "        self.HIDDEN_SIZE = hyper_parameter[\"hidden_size\"]\n",
    "        self.gamma = hyper_parameter[\"gamma\"]\n",
    "        self.EPOCH = hyper_parameter[\"epoch\"]\n",
    "        self.classes = classes\n",
    "        self.valL_loss = list()\n",
    "        self.best_val_acc = 0\n",
    "\n",
    "        self.subdir = subdir\n",
    "        if not os.path.exists(f\"{self.subdir}/pth\"):\n",
    "            os.makedirs(f\"{self.subdir}/pth\")\n",
    "\n",
    "        self.train_loader, self.valid_loader, self.train_num, self.valid_num = (\n",
    "            self.input_train_data(\n",
    "                self.data_path, self.label_path, self.BATCH_SIZE)\n",
    "        )\n",
    "\n",
    "        self.train()\n",
    "\n",
    "    def get_dataLoader(self, data, label, batch_size: int):\n",
    "        data = torch.tensor(data, dtype=torch.float)\n",
    "        data_set = TensorDataset(data, torch.tensor(label, dtype=torch.float))\n",
    "        data_loader = DataLoader(data_set, batch_size=batch_size, shuffle=True)\n",
    "        for data, batchsize in data_loader:\n",
    "            print(f\"size of input: {data.size()}\")\n",
    "            print(f\"size of batch: {batchsize.size()}\")\n",
    "            break\n",
    "        return data_loader\n",
    "\n",
    "    def data_normalized(self, data):\n",
    "        # 對欄位一到四進行 Min-Max normalization\n",
    "        min_max_scaler = MinMaxScaler()\n",
    "\n",
    "        column_one = min_max_scaler.fit_transform(data[:, :1])\n",
    "        column_two = min_max_scaler.fit_transform(data[:, 1:2])\n",
    "        column_three = min_max_scaler.fit_transform(data[:, 2:3])\n",
    "        column_four = min_max_scaler.fit_transform(data[:, 3:4])\n",
    "\n",
    "        # 將 Min-Max normalization 後的部分和 one-hot encoding 後的部分重新組合成最終的資料\n",
    "        normalized_data = np.concatenate(\n",
    "            (column_one, column_two, column_three, column_four, data[:, 4:]), axis=1)\n",
    "        return normalized_data\n",
    "\n",
    "\n",
    "    def input_train_data(self, data_path: str, label_path: str, batch_size: int):\n",
    "        print(\"process dataset....\")\n",
    "\n",
    "        data = np.load(data_path)\n",
    "        label = np.load(label_path)\n",
    "\n",
    "        # normalization\n",
    "        normalized_data = self.data_normalized(data)\n",
    "        # normalized_data = data\n",
    "\n",
    "        train_data, val_data, train_label, val_label = train_test_split(\n",
    "            normalized_data, label, test_size=0.1, stratify=label, random_state=42\n",
    "        )\n",
    "\n",
    "        # 分訓練/驗證\n",
    "        print(\"-\" * 25 + \"train data\" + \"-\" * 25)\n",
    "        for i in set(train_label):\n",
    "            print(f\"{self.classes[i]}: {np.sum(train_label == i )}\")\n",
    "\n",
    "        print(\"-\" * 25 + \"valid data\" + \"-\" * 25)\n",
    "        for i in set(val_label):\n",
    "            print(f\"{self.classes[i]}: {np.sum(val_label == i )}\")\n",
    "\n",
    "        train_loader = self.get_dataLoader(train_data, train_label, batch_size)\n",
    "        val_loader = self.get_dataLoader(val_data, val_label, batch_size)\n",
    "\n",
    "        return train_loader, val_loader, len(train_data), len(val_data)\n",
    "\n",
    "    def validation(self, model: nn.DataParallel, epoch: int, loss):\n",
    "        val_total_correct = 0  # 總正確預測數\n",
    "        model = model.cuda(device=device)\n",
    "        model = model.eval()  # 將模型設置為評估模式\n",
    "        criterion = FocalLoss()  # 定義交叉熵損失函數\n",
    "\n",
    "        # 跟蹤每個類別的正確預測數和總樣本數的變量\n",
    "        class_correct = list(0.0 for i in enumerate(self.classes))\n",
    "        class_total = list(0.0 for i in enumerate(self.classes))\n",
    "\n",
    "        with torch.no_grad():  # val 防止在驗證過程中計算梯度\n",
    "            val_acc_add = 0.0\n",
    "            val_loss = 0.0\n",
    "            true_labels = []\n",
    "            predicted_labels = []\n",
    "\n",
    "            for inputs, labels in tqdm(\n",
    "                self.valid_loader\n",
    "            ):  # 遍歷驗證數據集（self.valid_loader）中的每個批次\n",
    "                inputs = inputs.cuda(device=device)\n",
    "                labels = labels.cuda(device=device)\n",
    "                inputs = inputs.unsqueeze(1)\n",
    "                outputs = model(inputs)\n",
    "\n",
    "                # 獲得預測結果。然後計算該批次的損失（val_loss）\n",
    "                val_loss = criterion(outputs, labels.long())\n",
    "                val_loss += float(loss.item() * inputs.size(0))\n",
    "                _, predicted = torch.max(outputs.data, 1)\n",
    "\n",
    "                val_total_correct += (predicted == labels).sum().item()\n",
    "                c = (predicted == labels).squeeze()\n",
    "\n",
    "                # batch size\n",
    "                for i in range(labels.size(0)):\n",
    "                    label = int(labels[i])\n",
    "                    class_correct[label] += c[i].item()\n",
    "                    class_total[label] += 1\n",
    "\n",
    "                # Collect true and predicted labels for confusion matrix plotting\n",
    "                true_labels.extend(labels.cpu().numpy())\n",
    "                predicted_labels.extend(predicted.cpu().numpy())\n",
    "\n",
    "            # Call draw_confusion_matrix function\n",
    "            if epoch == 50:\n",
    "                draw_confusion_matrix(\n",
    "                    true_labels, predicted_labels, self.classes\n",
    "                )\n",
    "\n",
    "            for i, c in enumerate(self.classes):\n",
    "                try:\n",
    "                    val_acc_add += class_correct[i] / class_total[i]\n",
    "                except ZeroDivisionError:\n",
    "                    val_acc_add += 0\n",
    "                try:\n",
    "                    acc = 100 * class_correct[i] / class_total[i]\n",
    "                except ZeroDivisionError:\n",
    "                    acc = 0\n",
    "                print(f\"Valid Accuracy of {c}: {acc:.4f}%\")\n",
    "\n",
    "            val_acc = val_acc_add / len(self.classes)\n",
    "            val_loss = val_loss.item() / self.valid_num\n",
    "            print(f\"Valid Accuracy: {val_acc:.4f} | Valid Loss: {val_loss:.4f}\")\n",
    "\n",
    "\n",
    "        self.valL_loss.append(val_loss)\n",
    "        if epoch % 5 == 0:\n",
    "            if isinstance(model, torch.nn.DataParallel):\n",
    "                model_state_dict = model.module.state_dict()\n",
    "            else:\n",
    "                model_state_dict = model.state_dict()\n",
    "            torch.save(\n",
    "                model_state_dict,\n",
    "                \"{}/pth/model-{:.2f}-val_acc-{}-epoch.pth\".format(\n",
    "                    self.subdir, val_acc, epoch\n",
    "                ),\n",
    "            )\n",
    "\n",
    "        if val_acc >= self.best_val_acc:\n",
    "            self.best_val_acc = val_acc\n",
    "            with open(self.subdir + \"/Best_valid_Acc.txt\", \"w\") as file:\n",
    "                file.write(\n",
    "                    \"Best Epoch :\"\n",
    "                    + str(epoch + 1)\n",
    "                    + f\"\\n Best acc: {self.best_val_acc}\"\n",
    "                )\n",
    "            if isinstance(model, torch.nn.DataParallel):\n",
    "                model_state_dict = model.module.state_dict()\n",
    "            else:\n",
    "                model_state_dict = model.state_dict()\n",
    "            torch.save(model_state_dict,\n",
    "                       f\"{self.subdir}/pth/model-best_val_acc.pth\")\n",
    "\n",
    "    def train(self):\n",
    "        train_loss = list()\n",
    "        model = self.model.cuda(device=device)\n",
    "        model = nn.DataParallel(model)\n",
    "        # loss function\n",
    "        criterion = nn.CrossEntropyLoss()  # FocalLoss()\n",
    "        # optimizer\n",
    "        optimizer = torch.optim.Adam(model.parameters(), lr=self.init_lr)\n",
    "        # scheduler\n",
    "        scheduler = StepLR(optimizer, step_size=self.RL_STEP, gamma=self.gamma)\n",
    "\n",
    "        print(\"start training ...\")\n",
    "        for epoch in range(self.EPOCH):\n",
    "            model = model.train()\n",
    "            localtime = time.asctime(time.localtime(time.time()))\n",
    "            training_loss = 0.0\n",
    "            training_corrects = 0\n",
    "            train_acc_add = 0.0\n",
    "            train_class_correct = list(0.0 for i in enumerate(self.classes))\n",
    "            train_class_total = list(0.0 for i in enumerate(self.classes))\n",
    "\n",
    "            # 在每个批次的迭代中，更新学习率\n",
    "            scheduler.step()  # 更新学习率\n",
    "            print(\"learning rate:\", scheduler.get_last_lr())\n",
    "\n",
    "            print(\n",
    "                f\"\\nEpoch: {epoch + 1}/{self.EPOCH} --- < Starting Time : {localtime} >\")\n",
    "            print(\n",
    "                \"-\" * len(f\"Epoch: {epoch + 1}/{self.EPOCH} --- < Starting Time : {localtime} >\"))\n",
    "\n",
    "            for i, (inputs, labels) in enumerate(tqdm(self.train_loader)):  # train\n",
    "                optimizer.zero_grad()  # clear gradients for this training step\n",
    "                inputs = inputs.cuda(device=device)\n",
    "                labels = labels.cuda(device=device)\n",
    "                inputs = inputs.unsqueeze(1)  # 增加一個新的維度來表示通道\n",
    "                outputs = model(inputs)\n",
    "                _, preds = torch.max(outputs.data, 1)\n",
    "                t = (preds == labels).squeeze()\n",
    "\n",
    "                for i in range(labels.size(0)):\n",
    "                    label = int(labels[i])\n",
    "                    train_class_correct[label] += t[i].item()\n",
    "                    train_class_total[label] += 1\n",
    "\n",
    "                loss = criterion(outputs, labels.long())\n",
    "                loss.backward()  # backpropagation, compute gradients\n",
    "                optimizer.step()  # apply gradients\n",
    "\n",
    "                training_loss += float(loss.item() * inputs.size(0))\n",
    "                training_corrects += torch.sum(preds == labels.data)  # 預測正確數量\n",
    "\n",
    "            training_loss = training_loss / self.train_num\n",
    "            training_acc = training_corrects.double() / self.train_num\n",
    "            train_loss.append(training_loss)\n",
    "\n",
    "            with open(self.subdir + \"/train_Acc_Loss.txt\", \"a\") as file:\n",
    "                file.write(\"Epoch :\" + str(epoch + 1) +\n",
    "                           \"/\" + str(self.EPOCH) + \"\\n\")\n",
    "                for i, c in enumerate(self.classes):\n",
    "                    try:\n",
    "                        train_acc_add += train_class_correct[i] / \\\n",
    "                            train_class_total[i]\n",
    "                    except ZeroDivisionError:\n",
    "                        train_acc_add += 0\n",
    "                    try:\n",
    "                        acc = 100 * \\\n",
    "                            train_class_correct[i] / train_class_total[i]\n",
    "                    except ZeroDivisionError:\n",
    "                        acc = 0\n",
    "\n",
    "                    file.write(f\"Train Accuracy of {c}: {str(acc)}% \\n\")\n",
    "                    print(\"Train Accuracy of %5s : %8.4f %%\" % (c, acc))\n",
    "\n",
    "                train_acc = train_acc_add / len(self.classes)\n",
    "                file.write(f\"Training Accuracy: {str(train_acc)}\")\n",
    "                file.write(f\" | Training loss: {str(training_loss)}\\n\")\n",
    "                print(\"Training Accuracy: \", train_acc)\n",
    "\n",
    "                self.validation(model, epoch, loss)\n",
    "\n",
    "        print(\n",
    "            f\"Best model save to: ./{self.subdir}/pth/model-best_val_acc.pth\")\n",
    "        parameter_total = sum([param.nelement()\n",
    "                              for param in model.parameters()])\n",
    "        print(\"Number of parameter: %.2fM\" % (parameter_total / 1e6))"
   ]
  },
  {
   "cell_type": "code",
   "execution_count": 30,
   "metadata": {},
   "outputs": [
    {
     "name": "stdout",
     "output_type": "stream",
     "text": [
      "process dataset....\n",
      "-------------------------train data-------------------------\n",
      "benign: 9000\n",
      "BF: 9000\n",
      "Deauth: 3964\n",
      "SAE_CV: 3600\n",
      "UGD: 3600\n",
      "SAE_AF: 9000\n",
      "TSC: 3600\n",
      "DG: 8132\n",
      "KRACK_DG: 5278\n",
      "-------------------------valid data-------------------------\n",
      "benign: 1000\n",
      "BF: 1000\n",
      "Deauth: 441\n",
      "SAE_CV: 400\n",
      "UGD: 400\n",
      "SAE_AF: 1000\n",
      "TSC: 400\n",
      "DG: 904\n",
      "KRACK_DG: 586\n",
      "size of input: torch.Size([64, 18])\n",
      "size of batch: torch.Size([64])\n",
      "size of input: torch.Size([64, 18])\n",
      "size of batch: torch.Size([64])\n",
      "start training ...\n",
      "learning rate: [0.001]\n",
      "\n",
      "Epoch: 1/50 --- < Starting Time : Fri Aug  2 07:53:20 2024 >\n",
      "------------------------------------------------------------\n"
     ]
    },
    {
     "name": "stderr",
     "output_type": "stream",
     "text": [
      "/home/sun10/anaconda3/envs/IDS/lib/python3.10/site-packages/torch/optim/lr_scheduler.py:139: UserWarning: Detected call of `lr_scheduler.step()` before `optimizer.step()`. In PyTorch 1.1.0 and later, you should call them in the opposite order: `optimizer.step()` before `lr_scheduler.step()`.  Failure to do this will result in PyTorch skipping the first value of the learning rate schedule. See more details at https://pytorch.org/docs/stable/optim.html#how-to-adjust-learning-rate\n",
      "  warnings.warn(\"Detected call of `lr_scheduler.step()` before `optimizer.step()`. \"\n"
     ]
    },
    {
     "data": {
      "application/vnd.jupyter.widget-view+json": {
       "model_id": "1eade83af5b04f0eab9df919feeebfc7",
       "version_major": 2,
       "version_minor": 0
      },
      "text/plain": [
       "  0%|          | 0/863 [00:00<?, ?it/s]"
      ]
     },
     "metadata": {},
     "output_type": "display_data"
    },
    {
     "name": "stdout",
     "output_type": "stream",
     "text": [
      "Train Accuracy of benign :  75.9556 %\n",
      "Train Accuracy of    BF :  97.8000 %\n",
      "Train Accuracy of Deauth :  81.3572 %\n",
      "Train Accuracy of SAE_CV :  78.2222 %\n",
      "Train Accuracy of   UGD :  95.1111 %\n",
      "Train Accuracy of SAE_AF :  95.6111 %\n",
      "Train Accuracy of   TSC :  60.1389 %\n",
      "Train Accuracy of    DG :  89.9287 %\n",
      "Train Accuracy of KRACK_DG :  80.7313 %\n",
      "Training Accuracy:  0.8387290203149507\n"
     ]
    },
    {
     "data": {
      "application/vnd.jupyter.widget-view+json": {
       "model_id": "f93f4f695f8543bdbe2b90e50349839e",
       "version_major": 2,
       "version_minor": 0
      },
      "text/plain": [
       "  0%|          | 0/96 [00:00<?, ?it/s]"
      ]
     },
     "metadata": {},
     "output_type": "display_data"
    },
    {
     "name": "stdout",
     "output_type": "stream",
     "text": [
      "Valid Accuracy of benign: 85.2000%\n",
      "Valid Accuracy of BF: 100.0000%\n",
      "Valid Accuracy of Deauth: 100.0000%\n",
      "Valid Accuracy of SAE_CV: 100.0000%\n",
      "Valid Accuracy of UGD: 100.0000%\n",
      "Valid Accuracy of SAE_AF: 91.7000%\n",
      "Valid Accuracy of TSC: 77.0000%\n",
      "Valid Accuracy of DG: 94.2478%\n",
      "Valid Accuracy of KRACK_DG: 96.7577%\n",
      "Valid Accuracy: 0.9388 | Valid Loss: 0.0004\n",
      "learning rate: [0.001]\n",
      "\n",
      "Epoch: 2/50 --- < Starting Time : Fri Aug  2 07:53:26 2024 >\n",
      "------------------------------------------------------------\n"
     ]
    },
    {
     "data": {
      "application/vnd.jupyter.widget-view+json": {
       "model_id": "249bf810b3a94181a4597647063b3fec",
       "version_major": 2,
       "version_minor": 0
      },
      "text/plain": [
       "  0%|          | 0/863 [00:00<?, ?it/s]"
      ]
     },
     "metadata": {},
     "output_type": "display_data"
    },
    {
     "name": "stdout",
     "output_type": "stream",
     "text": [
      "Train Accuracy of benign :  88.9444 %\n",
      "Train Accuracy of    BF :  99.6667 %\n",
      "Train Accuracy of Deauth :  98.6630 %\n",
      "Train Accuracy of SAE_CV :  99.9167 %\n",
      "Train Accuracy of   UGD : 100.0000 %\n",
      "Train Accuracy of SAE_AF :  96.7667 %\n",
      "Train Accuracy of   TSC :  68.2222 %\n",
      "Train Accuracy of    DG :  94.6139 %\n",
      "Train Accuracy of KRACK_DG :  96.7033 %\n",
      "Training Accuracy:  0.9372186679963111\n"
     ]
    },
    {
     "data": {
      "application/vnd.jupyter.widget-view+json": {
       "model_id": "cd00b838d6a9421e8d72eae3df9f5e90",
       "version_major": 2,
       "version_minor": 0
      },
      "text/plain": [
       "  0%|          | 0/96 [00:00<?, ?it/s]"
      ]
     },
     "metadata": {},
     "output_type": "display_data"
    },
    {
     "name": "stdout",
     "output_type": "stream",
     "text": [
      "Valid Accuracy of benign: 96.1000%\n",
      "Valid Accuracy of BF: 100.0000%\n",
      "Valid Accuracy of Deauth: 100.0000%\n",
      "Valid Accuracy of SAE_CV: 100.0000%\n",
      "Valid Accuracy of UGD: 100.0000%\n",
      "Valid Accuracy of SAE_AF: 91.7000%\n",
      "Valid Accuracy of TSC: 77.0000%\n",
      "Valid Accuracy of DG: 95.2434%\n",
      "Valid Accuracy of KRACK_DG: 97.6109%\n",
      "Valid Accuracy: 0.9529 | Valid Loss: 0.0020\n",
      "learning rate: [0.001]\n",
      "\n",
      "Epoch: 3/50 --- < Starting Time : Fri Aug  2 07:53:33 2024 >\n",
      "------------------------------------------------------------\n"
     ]
    },
    {
     "data": {
      "application/vnd.jupyter.widget-view+json": {
       "model_id": "7708a15b430f41bb94d34499a4e81bfd",
       "version_major": 2,
       "version_minor": 0
      },
      "text/plain": [
       "  0%|          | 0/863 [00:00<?, ?it/s]"
      ]
     },
     "metadata": {},
     "output_type": "display_data"
    },
    {
     "name": "stdout",
     "output_type": "stream",
     "text": [
      "Train Accuracy of benign :  91.2111 %\n",
      "Train Accuracy of    BF :  99.5667 %\n",
      "Train Accuracy of Deauth :  99.2180 %\n",
      "Train Accuracy of SAE_CV :  99.7500 %\n",
      "Train Accuracy of   UGD : 100.0000 %\n",
      "Train Accuracy of SAE_AF :  96.9667 %\n",
      "Train Accuracy of   TSC :  68.5833 %\n",
      "Train Accuracy of    DG :  94.6754 %\n",
      "Train Accuracy of KRACK_DG :  97.1959 %\n",
      "Training Accuracy:  0.9412966706547174\n"
     ]
    },
    {
     "data": {
      "application/vnd.jupyter.widget-view+json": {
       "model_id": "4793eaddb8494aeb8c2fe914c466993e",
       "version_major": 2,
       "version_minor": 0
      },
      "text/plain": [
       "  0%|          | 0/96 [00:00<?, ?it/s]"
      ]
     },
     "metadata": {},
     "output_type": "display_data"
    },
    {
     "name": "stdout",
     "output_type": "stream",
     "text": [
      "Valid Accuracy of benign: 90.2000%\n",
      "Valid Accuracy of BF: 100.0000%\n",
      "Valid Accuracy of Deauth: 100.0000%\n",
      "Valid Accuracy of SAE_CV: 100.0000%\n",
      "Valid Accuracy of UGD: 100.0000%\n",
      "Valid Accuracy of SAE_AF: 99.1000%\n",
      "Valid Accuracy of TSC: 67.0000%\n",
      "Valid Accuracy of DG: 94.4690%\n",
      "Valid Accuracy of KRACK_DG: 96.2457%\n",
      "Valid Accuracy: 0.9411 | Valid Loss: 0.0003\n",
      "learning rate: [0.001]\n",
      "\n",
      "Epoch: 4/50 --- < Starting Time : Fri Aug  2 07:53:40 2024 >\n",
      "------------------------------------------------------------\n"
     ]
    },
    {
     "data": {
      "application/vnd.jupyter.widget-view+json": {
       "model_id": "e80c112f5ee647d28ec30c97f42baaf1",
       "version_major": 2,
       "version_minor": 0
      },
      "text/plain": [
       "  0%|          | 0/863 [00:00<?, ?it/s]"
      ]
     },
     "metadata": {},
     "output_type": "display_data"
    },
    {
     "name": "stdout",
     "output_type": "stream",
     "text": [
      "Train Accuracy of benign :  94.8333 %\n",
      "Train Accuracy of    BF :  99.8778 %\n",
      "Train Accuracy of Deauth :  99.6468 %\n",
      "Train Accuracy of SAE_CV :  99.9722 %\n",
      "Train Accuracy of   UGD : 100.0000 %\n",
      "Train Accuracy of SAE_AF :  97.2000 %\n",
      "Train Accuracy of   TSC :  68.1111 %\n",
      "Train Accuracy of    DG :  95.5853 %\n",
      "Train Accuracy of KRACK_DG :  97.5180 %\n",
      "Training Accuracy:  0.9474940077093729\n"
     ]
    },
    {
     "data": {
      "application/vnd.jupyter.widget-view+json": {
       "model_id": "3e0d3f4fe5dd4d339090dd186db6ac99",
       "version_major": 2,
       "version_minor": 0
      },
      "text/plain": [
       "  0%|          | 0/96 [00:00<?, ?it/s]"
      ]
     },
     "metadata": {},
     "output_type": "display_data"
    },
    {
     "name": "stdout",
     "output_type": "stream",
     "text": [
      "Valid Accuracy of benign: 97.1000%\n",
      "Valid Accuracy of BF: 100.0000%\n",
      "Valid Accuracy of Deauth: 100.0000%\n",
      "Valid Accuracy of SAE_CV: 100.0000%\n",
      "Valid Accuracy of UGD: 100.0000%\n",
      "Valid Accuracy of SAE_AF: 99.1000%\n",
      "Valid Accuracy of TSC: 67.0000%\n",
      "Valid Accuracy of DG: 96.1283%\n",
      "Valid Accuracy of KRACK_DG: 97.2696%\n",
      "Valid Accuracy: 0.9518 | Valid Loss: 0.0036\n",
      "learning rate: [0.001]\n",
      "\n",
      "Epoch: 5/50 --- < Starting Time : Fri Aug  2 07:53:46 2024 >\n",
      "------------------------------------------------------------\n"
     ]
    },
    {
     "data": {
      "application/vnd.jupyter.widget-view+json": {
       "model_id": "f6b57e45bb0147049dce5d3937299b69",
       "version_major": 2,
       "version_minor": 0
      },
      "text/plain": [
       "  0%|          | 0/863 [00:00<?, ?it/s]"
      ]
     },
     "metadata": {},
     "output_type": "display_data"
    },
    {
     "name": "stdout",
     "output_type": "stream",
     "text": [
      "Train Accuracy of benign :  96.3444 %\n",
      "Train Accuracy of    BF : 100.0000 %\n",
      "Train Accuracy of Deauth :  99.4955 %\n",
      "Train Accuracy of SAE_CV :  99.5833 %\n",
      "Train Accuracy of   UGD : 100.0000 %\n",
      "Train Accuracy of SAE_AF :  97.3222 %\n",
      "Train Accuracy of   TSC :  69.2778 %\n",
      "Train Accuracy of    DG :  95.8682 %\n",
      "Train Accuracy of KRACK_DG :  97.4043 %\n",
      "Training Accuracy:  0.9503285909319492\n"
     ]
    },
    {
     "data": {
      "application/vnd.jupyter.widget-view+json": {
       "model_id": "49d88e81364f48138bcb8738db9cc257",
       "version_major": 2,
       "version_minor": 0
      },
      "text/plain": [
       "  0%|          | 0/96 [00:00<?, ?it/s]"
      ]
     },
     "metadata": {},
     "output_type": "display_data"
    },
    {
     "name": "stdout",
     "output_type": "stream",
     "text": [
      "Valid Accuracy of benign: 88.8000%\n",
      "Valid Accuracy of BF: 100.0000%\n",
      "Valid Accuracy of Deauth: 100.0000%\n",
      "Valid Accuracy of SAE_CV: 100.0000%\n",
      "Valid Accuracy of UGD: 100.0000%\n",
      "Valid Accuracy of SAE_AF: 99.1000%\n",
      "Valid Accuracy of TSC: 67.0000%\n",
      "Valid Accuracy of DG: 95.5752%\n",
      "Valid Accuracy of KRACK_DG: 97.2696%\n",
      "Valid Accuracy: 0.9419 | Valid Loss: 0.0053\n",
      "learning rate: [0.001]\n",
      "\n",
      "Epoch: 6/50 --- < Starting Time : Fri Aug  2 07:53:53 2024 >\n",
      "------------------------------------------------------------\n"
     ]
    },
    {
     "data": {
      "application/vnd.jupyter.widget-view+json": {
       "model_id": "dbc29e528da44ca5874d4dce994b3d62",
       "version_major": 2,
       "version_minor": 0
      },
      "text/plain": [
       "  0%|          | 0/863 [00:00<?, ?it/s]"
      ]
     },
     "metadata": {},
     "output_type": "display_data"
    },
    {
     "name": "stdout",
     "output_type": "stream",
     "text": [
      "Train Accuracy of benign :  89.0667 %\n",
      "Train Accuracy of    BF :  99.8000 %\n",
      "Train Accuracy of Deauth :  99.0161 %\n",
      "Train Accuracy of SAE_CV :  99.6944 %\n",
      "Train Accuracy of   UGD : 100.0000 %\n",
      "Train Accuracy of SAE_AF :  97.3111 %\n",
      "Train Accuracy of   TSC :  70.2500 %\n",
      "Train Accuracy of    DG :  95.5485 %\n",
      "Train Accuracy of KRACK_DG :  96.9307 %\n",
      "Training Accuracy:  0.9417971929411154\n"
     ]
    },
    {
     "data": {
      "application/vnd.jupyter.widget-view+json": {
       "model_id": "3fe32f7620014d15aaec43e4663c1791",
       "version_major": 2,
       "version_minor": 0
      },
      "text/plain": [
       "  0%|          | 0/96 [00:00<?, ?it/s]"
      ]
     },
     "metadata": {},
     "output_type": "display_data"
    },
    {
     "name": "stdout",
     "output_type": "stream",
     "text": [
      "Valid Accuracy of benign: 90.1000%\n",
      "Valid Accuracy of BF: 100.0000%\n",
      "Valid Accuracy of Deauth: 100.0000%\n",
      "Valid Accuracy of SAE_CV: 100.0000%\n",
      "Valid Accuracy of UGD: 100.0000%\n",
      "Valid Accuracy of SAE_AF: 91.7000%\n",
      "Valid Accuracy of TSC: 77.0000%\n",
      "Valid Accuracy of DG: 96.2389%\n",
      "Valid Accuracy of KRACK_DG: 97.0990%\n",
      "Valid Accuracy: 0.9468 | Valid Loss: 0.0001\n",
      "learning rate: [0.0001]\n",
      "\n",
      "Epoch: 7/50 --- < Starting Time : Fri Aug  2 07:53:59 2024 >\n",
      "------------------------------------------------------------\n"
     ]
    },
    {
     "data": {
      "application/vnd.jupyter.widget-view+json": {
       "model_id": "253ffd78081d45b88435e12aba8ec93b",
       "version_major": 2,
       "version_minor": 0
      },
      "text/plain": [
       "  0%|          | 0/863 [00:00<?, ?it/s]"
      ]
     },
     "metadata": {},
     "output_type": "display_data"
    },
    {
     "name": "stdout",
     "output_type": "stream",
     "text": [
      "Train Accuracy of benign :  97.5444 %\n",
      "Train Accuracy of    BF : 100.0000 %\n",
      "Train Accuracy of Deauth :  99.9748 %\n",
      "Train Accuracy of SAE_CV : 100.0000 %\n",
      "Train Accuracy of   UGD : 100.0000 %\n",
      "Train Accuracy of SAE_AF :  98.5778 %\n",
      "Train Accuracy of   TSC :  74.3889 %\n",
      "Train Accuracy of    DG :  96.5199 %\n",
      "Train Accuracy of KRACK_DG :  97.7833 %\n",
      "Training Accuracy:  0.9608767295531346\n"
     ]
    },
    {
     "data": {
      "application/vnd.jupyter.widget-view+json": {
       "model_id": "4836b2a3d4e448c0b81c72298a2dc75c",
       "version_major": 2,
       "version_minor": 0
      },
      "text/plain": [
       "  0%|          | 0/96 [00:00<?, ?it/s]"
      ]
     },
     "metadata": {},
     "output_type": "display_data"
    },
    {
     "name": "stdout",
     "output_type": "stream",
     "text": [
      "Valid Accuracy of benign: 97.2000%\n",
      "Valid Accuracy of BF: 100.0000%\n",
      "Valid Accuracy of Deauth: 100.0000%\n",
      "Valid Accuracy of SAE_CV: 100.0000%\n",
      "Valid Accuracy of UGD: 100.0000%\n",
      "Valid Accuracy of SAE_AF: 99.1000%\n",
      "Valid Accuracy of TSC: 77.0000%\n",
      "Valid Accuracy of DG: 96.2389%\n",
      "Valid Accuracy of KRACK_DG: 97.2696%\n",
      "Valid Accuracy: 0.9631 | Valid Loss: 0.0002\n",
      "learning rate: [0.0001]\n",
      "\n",
      "Epoch: 8/50 --- < Starting Time : Fri Aug  2 07:54:06 2024 >\n",
      "------------------------------------------------------------\n"
     ]
    },
    {
     "data": {
      "application/vnd.jupyter.widget-view+json": {
       "model_id": "acefd09d69f54229bf82cbae943fa24e",
       "version_major": 2,
       "version_minor": 0
      },
      "text/plain": [
       "  0%|          | 0/863 [00:00<?, ?it/s]"
      ]
     },
     "metadata": {},
     "output_type": "display_data"
    },
    {
     "name": "stdout",
     "output_type": "stream",
     "text": [
      "Train Accuracy of benign :  97.7111 %\n",
      "Train Accuracy of    BF : 100.0000 %\n",
      "Train Accuracy of Deauth :  99.9243 %\n",
      "Train Accuracy of SAE_CV : 100.0000 %\n",
      "Train Accuracy of   UGD : 100.0000 %\n",
      "Train Accuracy of SAE_AF :  98.7889 %\n",
      "Train Accuracy of   TSC :  76.5833 %\n",
      "Train Accuracy of    DG :  96.5199 %\n",
      "Train Accuracy of KRACK_DG :  97.8401 %\n",
      "Training Accuracy:  0.9637418493836383\n"
     ]
    },
    {
     "data": {
      "application/vnd.jupyter.widget-view+json": {
       "model_id": "a46bb80c77604eb1bdfe956bc70f22e9",
       "version_major": 2,
       "version_minor": 0
      },
      "text/plain": [
       "  0%|          | 0/96 [00:00<?, ?it/s]"
      ]
     },
     "metadata": {},
     "output_type": "display_data"
    },
    {
     "name": "stdout",
     "output_type": "stream",
     "text": [
      "Valid Accuracy of benign: 97.7000%\n",
      "Valid Accuracy of BF: 100.0000%\n",
      "Valid Accuracy of Deauth: 98.6395%\n",
      "Valid Accuracy of SAE_CV: 100.0000%\n",
      "Valid Accuracy of UGD: 100.0000%\n",
      "Valid Accuracy of SAE_AF: 99.1000%\n",
      "Valid Accuracy of TSC: 83.7500%\n",
      "Valid Accuracy of DG: 96.2389%\n",
      "Valid Accuracy of KRACK_DG: 97.2696%\n",
      "Valid Accuracy: 0.9697 | Valid Loss: 0.0000\n",
      "learning rate: [0.0001]\n",
      "\n",
      "Epoch: 9/50 --- < Starting Time : Fri Aug  2 07:54:12 2024 >\n",
      "------------------------------------------------------------\n"
     ]
    },
    {
     "data": {
      "application/vnd.jupyter.widget-view+json": {
       "model_id": "17b459ebda684567b776c92f3a67b248",
       "version_major": 2,
       "version_minor": 0
      },
      "text/plain": [
       "  0%|          | 0/863 [00:00<?, ?it/s]"
      ]
     },
     "metadata": {},
     "output_type": "display_data"
    },
    {
     "name": "stdout",
     "output_type": "stream",
     "text": [
      "Train Accuracy of benign :  97.7111 %\n",
      "Train Accuracy of    BF : 100.0000 %\n",
      "Train Accuracy of Deauth :  99.8739 %\n",
      "Train Accuracy of SAE_CV : 100.0000 %\n",
      "Train Accuracy of   UGD : 100.0000 %\n",
      "Train Accuracy of SAE_AF :  99.3111 %\n",
      "Train Accuracy of   TSC :  87.4167 %\n",
      "Train Accuracy of    DG :  96.5322 %\n",
      "Train Accuracy of KRACK_DG :  97.8401 %\n",
      "Training Accuracy:  0.9763167366799266\n"
     ]
    },
    {
     "data": {
      "application/vnd.jupyter.widget-view+json": {
       "model_id": "3f2b7ad344b94d1d9cb263503580fa89",
       "version_major": 2,
       "version_minor": 0
      },
      "text/plain": [
       "  0%|          | 0/96 [00:00<?, ?it/s]"
      ]
     },
     "metadata": {},
     "output_type": "display_data"
    },
    {
     "name": "stdout",
     "output_type": "stream",
     "text": [
      "Valid Accuracy of benign: 97.3000%\n",
      "Valid Accuracy of BF: 100.0000%\n",
      "Valid Accuracy of Deauth: 100.0000%\n",
      "Valid Accuracy of SAE_CV: 100.0000%\n",
      "Valid Accuracy of UGD: 100.0000%\n",
      "Valid Accuracy of SAE_AF: 99.7000%\n",
      "Valid Accuracy of TSC: 99.7500%\n",
      "Valid Accuracy of DG: 96.2389%\n",
      "Valid Accuracy of KRACK_DG: 97.4403%\n",
      "Valid Accuracy: 0.9894 | Valid Loss: 0.0003\n",
      "learning rate: [0.0001]\n",
      "\n",
      "Epoch: 10/50 --- < Starting Time : Fri Aug  2 07:54:18 2024 >\n",
      "-------------------------------------------------------------\n"
     ]
    },
    {
     "data": {
      "application/vnd.jupyter.widget-view+json": {
       "model_id": "6ccda2c25bfe46528f242b5c13c3bc47",
       "version_major": 2,
       "version_minor": 0
      },
      "text/plain": [
       "  0%|          | 0/863 [00:00<?, ?it/s]"
      ]
     },
     "metadata": {},
     "output_type": "display_data"
    },
    {
     "name": "stdout",
     "output_type": "stream",
     "text": [
      "Train Accuracy of benign :  97.6889 %\n",
      "Train Accuracy of    BF : 100.0000 %\n",
      "Train Accuracy of Deauth :  99.8991 %\n",
      "Train Accuracy of SAE_CV : 100.0000 %\n",
      "Train Accuracy of   UGD : 100.0000 %\n",
      "Train Accuracy of SAE_AF :  99.5222 %\n",
      "Train Accuracy of   TSC :  99.5833 %\n",
      "Train Accuracy of    DG :  96.5568 %\n",
      "Train Accuracy of KRACK_DG :  97.8590 %\n",
      "Training Accuracy:  0.9901215404192452\n"
     ]
    },
    {
     "data": {
      "application/vnd.jupyter.widget-view+json": {
       "model_id": "077eea4edc3f4a1fbf80ec8a2c790b64",
       "version_major": 2,
       "version_minor": 0
      },
      "text/plain": [
       "  0%|          | 0/96 [00:00<?, ?it/s]"
      ]
     },
     "metadata": {},
     "output_type": "display_data"
    },
    {
     "name": "stdout",
     "output_type": "stream",
     "text": [
      "Valid Accuracy of benign: 97.4000%\n",
      "Valid Accuracy of BF: 100.0000%\n",
      "Valid Accuracy of Deauth: 100.0000%\n",
      "Valid Accuracy of SAE_CV: 100.0000%\n",
      "Valid Accuracy of UGD: 100.0000%\n",
      "Valid Accuracy of SAE_AF: 99.7000%\n",
      "Valid Accuracy of TSC: 100.0000%\n",
      "Valid Accuracy of DG: 96.2389%\n",
      "Valid Accuracy of KRACK_DG: 97.2696%\n",
      "Valid Accuracy: 0.9896 | Valid Loss: 0.0063\n",
      "learning rate: [0.0001]\n",
      "\n",
      "Epoch: 11/50 --- < Starting Time : Fri Aug  2 07:54:23 2024 >\n",
      "-------------------------------------------------------------\n"
     ]
    },
    {
     "data": {
      "application/vnd.jupyter.widget-view+json": {
       "model_id": "76cbf33818f04188983d9d836fb4ada2",
       "version_major": 2,
       "version_minor": 0
      },
      "text/plain": [
       "  0%|          | 0/863 [00:00<?, ?it/s]"
      ]
     },
     "metadata": {},
     "output_type": "display_data"
    },
    {
     "name": "stdout",
     "output_type": "stream",
     "text": [
      "Train Accuracy of benign :  97.6556 %\n",
      "Train Accuracy of    BF : 100.0000 %\n",
      "Train Accuracy of Deauth :  99.7225 %\n",
      "Train Accuracy of SAE_CV : 100.0000 %\n",
      "Train Accuracy of   UGD : 100.0000 %\n",
      "Train Accuracy of SAE_AF :  99.5556 %\n",
      "Train Accuracy of   TSC :  99.9444 %\n",
      "Train Accuracy of    DG :  96.5814 %\n",
      "Train Accuracy of KRACK_DG :  97.8780 %\n",
      "Training Accuracy:  0.9903749432790429\n"
     ]
    },
    {
     "data": {
      "application/vnd.jupyter.widget-view+json": {
       "model_id": "c68643cee21f4b73ba610377e4e916c5",
       "version_major": 2,
       "version_minor": 0
      },
      "text/plain": [
       "  0%|          | 0/96 [00:00<?, ?it/s]"
      ]
     },
     "metadata": {},
     "output_type": "display_data"
    },
    {
     "name": "stdout",
     "output_type": "stream",
     "text": [
      "Valid Accuracy of benign: 97.3000%\n",
      "Valid Accuracy of BF: 100.0000%\n",
      "Valid Accuracy of Deauth: 100.0000%\n",
      "Valid Accuracy of SAE_CV: 100.0000%\n",
      "Valid Accuracy of UGD: 100.0000%\n",
      "Valid Accuracy of SAE_AF: 99.7000%\n",
      "Valid Accuracy of TSC: 99.7500%\n",
      "Valid Accuracy of DG: 96.2389%\n",
      "Valid Accuracy of KRACK_DG: 97.6109%\n",
      "Valid Accuracy: 0.9896 | Valid Loss: 0.0000\n",
      "learning rate: [0.0001]\n",
      "\n",
      "Epoch: 12/50 --- < Starting Time : Fri Aug  2 07:54:29 2024 >\n",
      "-------------------------------------------------------------\n"
     ]
    },
    {
     "data": {
      "application/vnd.jupyter.widget-view+json": {
       "model_id": "68ddb47ab62f4f38a10e10056273d6ab",
       "version_major": 2,
       "version_minor": 0
      },
      "text/plain": [
       "  0%|          | 0/863 [00:00<?, ?it/s]"
      ]
     },
     "metadata": {},
     "output_type": "display_data"
    },
    {
     "name": "stdout",
     "output_type": "stream",
     "text": [
      "Train Accuracy of benign :  97.7111 %\n",
      "Train Accuracy of    BF : 100.0000 %\n",
      "Train Accuracy of Deauth :  99.8991 %\n",
      "Train Accuracy of SAE_CV : 100.0000 %\n",
      "Train Accuracy of   UGD : 100.0000 %\n",
      "Train Accuracy of SAE_AF :  99.5667 %\n",
      "Train Accuracy of   TSC :  99.9722 %\n",
      "Train Accuracy of    DG :  96.5937 %\n",
      "Train Accuracy of KRACK_DG :  97.9538 %\n",
      "Training Accuracy:  0.9907739623109827\n"
     ]
    },
    {
     "data": {
      "application/vnd.jupyter.widget-view+json": {
       "model_id": "37442eff550a4fb4a87575a5f593ab89",
       "version_major": 2,
       "version_minor": 0
      },
      "text/plain": [
       "  0%|          | 0/96 [00:00<?, ?it/s]"
      ]
     },
     "metadata": {},
     "output_type": "display_data"
    },
    {
     "name": "stdout",
     "output_type": "stream",
     "text": [
      "Valid Accuracy of benign: 97.2000%\n",
      "Valid Accuracy of BF: 100.0000%\n",
      "Valid Accuracy of Deauth: 100.0000%\n",
      "Valid Accuracy of SAE_CV: 100.0000%\n",
      "Valid Accuracy of UGD: 100.0000%\n",
      "Valid Accuracy of SAE_AF: 99.7000%\n",
      "Valid Accuracy of TSC: 100.0000%\n",
      "Valid Accuracy of DG: 96.2389%\n",
      "Valid Accuracy of KRACK_DG: 97.4403%\n",
      "Valid Accuracy: 0.9895 | Valid Loss: 0.0001\n",
      "learning rate: [0.0001]\n",
      "\n",
      "Epoch: 13/50 --- < Starting Time : Fri Aug  2 07:54:36 2024 >\n",
      "-------------------------------------------------------------\n"
     ]
    },
    {
     "data": {
      "application/vnd.jupyter.widget-view+json": {
       "model_id": "cb759e20de3f4ffab7b232beb1dc72de",
       "version_major": 2,
       "version_minor": 0
      },
      "text/plain": [
       "  0%|          | 0/863 [00:00<?, ?it/s]"
      ]
     },
     "metadata": {},
     "output_type": "display_data"
    },
    {
     "name": "stdout",
     "output_type": "stream",
     "text": [
      "Train Accuracy of benign :  97.7556 %\n",
      "Train Accuracy of    BF : 100.0000 %\n",
      "Train Accuracy of Deauth :  99.8739 %\n",
      "Train Accuracy of SAE_CV : 100.0000 %\n",
      "Train Accuracy of   UGD : 100.0000 %\n",
      "Train Accuracy of SAE_AF :  99.5667 %\n",
      "Train Accuracy of   TSC : 100.0000 %\n",
      "Train Accuracy of    DG :  96.5937 %\n",
      "Train Accuracy of KRACK_DG :  97.8969 %\n",
      "Training Accuracy:  0.9907630239407822\n"
     ]
    },
    {
     "data": {
      "application/vnd.jupyter.widget-view+json": {
       "model_id": "063c7bbf52e5462da2e90afd874dc2b2",
       "version_major": 2,
       "version_minor": 0
      },
      "text/plain": [
       "  0%|          | 0/96 [00:00<?, ?it/s]"
      ]
     },
     "metadata": {},
     "output_type": "display_data"
    },
    {
     "name": "stdout",
     "output_type": "stream",
     "text": [
      "Valid Accuracy of benign: 97.6000%\n",
      "Valid Accuracy of BF: 100.0000%\n",
      "Valid Accuracy of Deauth: 100.0000%\n",
      "Valid Accuracy of SAE_CV: 100.0000%\n",
      "Valid Accuracy of UGD: 100.0000%\n",
      "Valid Accuracy of SAE_AF: 99.7000%\n",
      "Valid Accuracy of TSC: 100.0000%\n",
      "Valid Accuracy of DG: 96.2389%\n",
      "Valid Accuracy of KRACK_DG: 97.6109%\n",
      "Valid Accuracy: 0.9902 | Valid Loss: 0.0001\n",
      "learning rate: [1e-05]\n",
      "\n",
      "Epoch: 14/50 --- < Starting Time : Fri Aug  2 07:54:41 2024 >\n",
      "-------------------------------------------------------------\n"
     ]
    },
    {
     "data": {
      "application/vnd.jupyter.widget-view+json": {
       "model_id": "09da92b7275c40eaa054708b132b2490",
       "version_major": 2,
       "version_minor": 0
      },
      "text/plain": [
       "  0%|          | 0/863 [00:00<?, ?it/s]"
      ]
     },
     "metadata": {},
     "output_type": "display_data"
    },
    {
     "name": "stdout",
     "output_type": "stream",
     "text": [
      "Train Accuracy of benign :  97.7778 %\n",
      "Train Accuracy of    BF : 100.0000 %\n",
      "Train Accuracy of Deauth : 100.0000 %\n",
      "Train Accuracy of SAE_CV : 100.0000 %\n",
      "Train Accuracy of   UGD : 100.0000 %\n",
      "Train Accuracy of SAE_AF :  99.5667 %\n",
      "Train Accuracy of   TSC : 100.0000 %\n",
      "Train Accuracy of    DG :  96.5937 %\n",
      "Train Accuracy of KRACK_DG :  97.9727 %\n",
      "Training Accuracy:  0.991012072520624\n"
     ]
    },
    {
     "data": {
      "application/vnd.jupyter.widget-view+json": {
       "model_id": "bda70cf2fe9a4c15a9ea51e85268aa54",
       "version_major": 2,
       "version_minor": 0
      },
      "text/plain": [
       "  0%|          | 0/96 [00:00<?, ?it/s]"
      ]
     },
     "metadata": {},
     "output_type": "display_data"
    },
    {
     "name": "stdout",
     "output_type": "stream",
     "text": [
      "Valid Accuracy of benign: 97.6000%\n",
      "Valid Accuracy of BF: 100.0000%\n",
      "Valid Accuracy of Deauth: 100.0000%\n",
      "Valid Accuracy of SAE_CV: 100.0000%\n",
      "Valid Accuracy of UGD: 100.0000%\n",
      "Valid Accuracy of SAE_AF: 99.7000%\n",
      "Valid Accuracy of TSC: 100.0000%\n",
      "Valid Accuracy of DG: 96.2389%\n",
      "Valid Accuracy of KRACK_DG: 97.6109%\n",
      "Valid Accuracy: 0.9902 | Valid Loss: 0.0001\n",
      "learning rate: [1e-05]\n",
      "\n",
      "Epoch: 15/50 --- < Starting Time : Fri Aug  2 07:54:44 2024 >\n",
      "-------------------------------------------------------------\n"
     ]
    },
    {
     "data": {
      "application/vnd.jupyter.widget-view+json": {
       "model_id": "bfd30d9379a0416e95aad4cbb2b71efb",
       "version_major": 2,
       "version_minor": 0
      },
      "text/plain": [
       "  0%|          | 0/863 [00:00<?, ?it/s]"
      ]
     },
     "metadata": {},
     "output_type": "display_data"
    },
    {
     "name": "stdout",
     "output_type": "stream",
     "text": [
      "Train Accuracy of benign :  97.7778 %\n",
      "Train Accuracy of    BF : 100.0000 %\n",
      "Train Accuracy of Deauth : 100.0000 %\n",
      "Train Accuracy of SAE_CV : 100.0000 %\n",
      "Train Accuracy of   UGD : 100.0000 %\n",
      "Train Accuracy of SAE_AF :  99.5667 %\n",
      "Train Accuracy of   TSC : 100.0000 %\n",
      "Train Accuracy of    DG :  96.5937 %\n",
      "Train Accuracy of KRACK_DG :  97.9727 %\n",
      "Training Accuracy:  0.991012072520624\n"
     ]
    },
    {
     "data": {
      "application/vnd.jupyter.widget-view+json": {
       "model_id": "a9753716590746a9a5fb5d9cd3ee464d",
       "version_major": 2,
       "version_minor": 0
      },
      "text/plain": [
       "  0%|          | 0/96 [00:00<?, ?it/s]"
      ]
     },
     "metadata": {},
     "output_type": "display_data"
    },
    {
     "name": "stdout",
     "output_type": "stream",
     "text": [
      "Valid Accuracy of benign: 97.6000%\n",
      "Valid Accuracy of BF: 100.0000%\n",
      "Valid Accuracy of Deauth: 100.0000%\n",
      "Valid Accuracy of SAE_CV: 100.0000%\n",
      "Valid Accuracy of UGD: 100.0000%\n",
      "Valid Accuracy of SAE_AF: 99.7000%\n",
      "Valid Accuracy of TSC: 100.0000%\n",
      "Valid Accuracy of DG: 96.2389%\n",
      "Valid Accuracy of KRACK_DG: 97.6109%\n",
      "Valid Accuracy: 0.9902 | Valid Loss: 0.0005\n",
      "learning rate: [1e-05]\n",
      "\n",
      "Epoch: 16/50 --- < Starting Time : Fri Aug  2 07:54:49 2024 >\n",
      "-------------------------------------------------------------\n"
     ]
    },
    {
     "data": {
      "application/vnd.jupyter.widget-view+json": {
       "model_id": "5b8bc52e1d8d496790849f746e4ce5e9",
       "version_major": 2,
       "version_minor": 0
      },
      "text/plain": [
       "  0%|          | 0/863 [00:00<?, ?it/s]"
      ]
     },
     "metadata": {},
     "output_type": "display_data"
    },
    {
     "name": "stdout",
     "output_type": "stream",
     "text": [
      "Train Accuracy of benign :  97.7778 %\n",
      "Train Accuracy of    BF : 100.0000 %\n",
      "Train Accuracy of Deauth : 100.0000 %\n",
      "Train Accuracy of SAE_CV : 100.0000 %\n",
      "Train Accuracy of   UGD : 100.0000 %\n",
      "Train Accuracy of SAE_AF :  99.5667 %\n",
      "Train Accuracy of   TSC : 100.0000 %\n",
      "Train Accuracy of    DG :  96.5937 %\n",
      "Train Accuracy of KRACK_DG :  97.9727 %\n",
      "Training Accuracy:  0.991012072520624\n"
     ]
    },
    {
     "data": {
      "application/vnd.jupyter.widget-view+json": {
       "model_id": "eb3b703a001f48d7bcd9274ad9288cbe",
       "version_major": 2,
       "version_minor": 0
      },
      "text/plain": [
       "  0%|          | 0/96 [00:00<?, ?it/s]"
      ]
     },
     "metadata": {},
     "output_type": "display_data"
    },
    {
     "name": "stdout",
     "output_type": "stream",
     "text": [
      "Valid Accuracy of benign: 97.6000%\n",
      "Valid Accuracy of BF: 100.0000%\n",
      "Valid Accuracy of Deauth: 100.0000%\n",
      "Valid Accuracy of SAE_CV: 100.0000%\n",
      "Valid Accuracy of UGD: 100.0000%\n",
      "Valid Accuracy of SAE_AF: 99.7000%\n",
      "Valid Accuracy of TSC: 100.0000%\n",
      "Valid Accuracy of DG: 96.2389%\n",
      "Valid Accuracy of KRACK_DG: 97.6109%\n",
      "Valid Accuracy: 0.9902 | Valid Loss: 0.0000\n",
      "learning rate: [1e-05]\n",
      "\n",
      "Epoch: 17/50 --- < Starting Time : Fri Aug  2 07:54:55 2024 >\n",
      "-------------------------------------------------------------\n"
     ]
    },
    {
     "data": {
      "application/vnd.jupyter.widget-view+json": {
       "model_id": "7a73b9bc65a74cee9645c0c9f9c953e2",
       "version_major": 2,
       "version_minor": 0
      },
      "text/plain": [
       "  0%|          | 0/863 [00:00<?, ?it/s]"
      ]
     },
     "metadata": {},
     "output_type": "display_data"
    },
    {
     "name": "stdout",
     "output_type": "stream",
     "text": [
      "Train Accuracy of benign :  97.7778 %\n",
      "Train Accuracy of    BF : 100.0000 %\n",
      "Train Accuracy of Deauth : 100.0000 %\n",
      "Train Accuracy of SAE_CV : 100.0000 %\n",
      "Train Accuracy of   UGD : 100.0000 %\n",
      "Train Accuracy of SAE_AF :  99.5667 %\n",
      "Train Accuracy of   TSC : 100.0000 %\n",
      "Train Accuracy of    DG :  96.5937 %\n",
      "Train Accuracy of KRACK_DG :  97.9727 %\n",
      "Training Accuracy:  0.991012072520624\n"
     ]
    },
    {
     "data": {
      "application/vnd.jupyter.widget-view+json": {
       "model_id": "99a37f7fae8b46d196a8b0f7ab011ea9",
       "version_major": 2,
       "version_minor": 0
      },
      "text/plain": [
       "  0%|          | 0/96 [00:00<?, ?it/s]"
      ]
     },
     "metadata": {},
     "output_type": "display_data"
    },
    {
     "name": "stdout",
     "output_type": "stream",
     "text": [
      "Valid Accuracy of benign: 97.6000%\n",
      "Valid Accuracy of BF: 100.0000%\n",
      "Valid Accuracy of Deauth: 100.0000%\n",
      "Valid Accuracy of SAE_CV: 100.0000%\n",
      "Valid Accuracy of UGD: 100.0000%\n",
      "Valid Accuracy of SAE_AF: 99.7000%\n",
      "Valid Accuracy of TSC: 100.0000%\n",
      "Valid Accuracy of DG: 96.2389%\n",
      "Valid Accuracy of KRACK_DG: 97.6109%\n",
      "Valid Accuracy: 0.9902 | Valid Loss: 0.0002\n",
      "learning rate: [1e-05]\n",
      "\n",
      "Epoch: 18/50 --- < Starting Time : Fri Aug  2 07:55:01 2024 >\n",
      "-------------------------------------------------------------\n"
     ]
    },
    {
     "data": {
      "application/vnd.jupyter.widget-view+json": {
       "model_id": "a3a99bec857c48368d8853b6dea8a7a2",
       "version_major": 2,
       "version_minor": 0
      },
      "text/plain": [
       "  0%|          | 0/863 [00:00<?, ?it/s]"
      ]
     },
     "metadata": {},
     "output_type": "display_data"
    },
    {
     "name": "stdout",
     "output_type": "stream",
     "text": [
      "Train Accuracy of benign :  97.7778 %\n",
      "Train Accuracy of    BF : 100.0000 %\n",
      "Train Accuracy of Deauth :  99.9495 %\n",
      "Train Accuracy of SAE_CV : 100.0000 %\n",
      "Train Accuracy of   UGD : 100.0000 %\n",
      "Train Accuracy of SAE_AF :  99.5667 %\n",
      "Train Accuracy of   TSC : 100.0000 %\n",
      "Train Accuracy of    DG :  96.5937 %\n",
      "Train Accuracy of KRACK_DG :  97.9727 %\n",
      "Training Accuracy:  0.9909560124242005\n"
     ]
    },
    {
     "data": {
      "application/vnd.jupyter.widget-view+json": {
       "model_id": "5eec51a394bd456b852e906be46fe16b",
       "version_major": 2,
       "version_minor": 0
      },
      "text/plain": [
       "  0%|          | 0/96 [00:00<?, ?it/s]"
      ]
     },
     "metadata": {},
     "output_type": "display_data"
    },
    {
     "name": "stdout",
     "output_type": "stream",
     "text": [
      "Valid Accuracy of benign: 97.6000%\n",
      "Valid Accuracy of BF: 100.0000%\n",
      "Valid Accuracy of Deauth: 100.0000%\n",
      "Valid Accuracy of SAE_CV: 100.0000%\n",
      "Valid Accuracy of UGD: 100.0000%\n",
      "Valid Accuracy of SAE_AF: 99.7000%\n",
      "Valid Accuracy of TSC: 100.0000%\n",
      "Valid Accuracy of DG: 96.2389%\n",
      "Valid Accuracy of KRACK_DG: 97.6109%\n",
      "Valid Accuracy: 0.9902 | Valid Loss: 0.0000\n",
      "learning rate: [1e-05]\n",
      "\n",
      "Epoch: 19/50 --- < Starting Time : Fri Aug  2 07:55:07 2024 >\n",
      "-------------------------------------------------------------\n"
     ]
    },
    {
     "data": {
      "application/vnd.jupyter.widget-view+json": {
       "model_id": "7af6516a8fec4ebaae4c4a821bf89385",
       "version_major": 2,
       "version_minor": 0
      },
      "text/plain": [
       "  0%|          | 0/863 [00:00<?, ?it/s]"
      ]
     },
     "metadata": {},
     "output_type": "display_data"
    },
    {
     "name": "stdout",
     "output_type": "stream",
     "text": [
      "Train Accuracy of benign :  97.7778 %\n",
      "Train Accuracy of    BF : 100.0000 %\n",
      "Train Accuracy of Deauth :  99.9748 %\n",
      "Train Accuracy of SAE_CV : 100.0000 %\n",
      "Train Accuracy of   UGD : 100.0000 %\n",
      "Train Accuracy of SAE_AF :  99.5778 %\n",
      "Train Accuracy of   TSC : 100.0000 %\n",
      "Train Accuracy of    DG :  96.5937 %\n",
      "Train Accuracy of KRACK_DG :  97.9727 %\n",
      "Training Accuracy:  0.9909963881514245\n"
     ]
    },
    {
     "data": {
      "application/vnd.jupyter.widget-view+json": {
       "model_id": "eceb8f6a1239411380f16131c17cdcfa",
       "version_major": 2,
       "version_minor": 0
      },
      "text/plain": [
       "  0%|          | 0/96 [00:00<?, ?it/s]"
      ]
     },
     "metadata": {},
     "output_type": "display_data"
    },
    {
     "name": "stdout",
     "output_type": "stream",
     "text": [
      "Valid Accuracy of benign: 97.6000%\n",
      "Valid Accuracy of BF: 100.0000%\n",
      "Valid Accuracy of Deauth: 100.0000%\n",
      "Valid Accuracy of SAE_CV: 100.0000%\n",
      "Valid Accuracy of UGD: 100.0000%\n",
      "Valid Accuracy of SAE_AF: 99.7000%\n",
      "Valid Accuracy of TSC: 100.0000%\n",
      "Valid Accuracy of DG: 96.2389%\n",
      "Valid Accuracy of KRACK_DG: 97.6109%\n",
      "Valid Accuracy: 0.9902 | Valid Loss: 0.0001\n",
      "learning rate: [1e-05]\n",
      "\n",
      "Epoch: 20/50 --- < Starting Time : Fri Aug  2 07:55:13 2024 >\n",
      "-------------------------------------------------------------\n"
     ]
    },
    {
     "data": {
      "application/vnd.jupyter.widget-view+json": {
       "model_id": "a4790400add043cbb294c42108821672",
       "version_major": 2,
       "version_minor": 0
      },
      "text/plain": [
       "  0%|          | 0/863 [00:00<?, ?it/s]"
      ]
     },
     "metadata": {},
     "output_type": "display_data"
    },
    {
     "name": "stdout",
     "output_type": "stream",
     "text": [
      "Train Accuracy of benign :  97.7778 %\n",
      "Train Accuracy of    BF : 100.0000 %\n",
      "Train Accuracy of Deauth :  99.9243 %\n",
      "Train Accuracy of SAE_CV : 100.0000 %\n",
      "Train Accuracy of   UGD : 100.0000 %\n",
      "Train Accuracy of SAE_AF :  99.5778 %\n",
      "Train Accuracy of   TSC : 100.0000 %\n",
      "Train Accuracy of    DG :  96.5937 %\n",
      "Train Accuracy of KRACK_DG :  97.9727 %\n",
      "Training Accuracy:  0.9909403280550012\n"
     ]
    },
    {
     "data": {
      "application/vnd.jupyter.widget-view+json": {
       "model_id": "1880c03c67ec4f719ed13667b0d5797f",
       "version_major": 2,
       "version_minor": 0
      },
      "text/plain": [
       "  0%|          | 0/96 [00:00<?, ?it/s]"
      ]
     },
     "metadata": {},
     "output_type": "display_data"
    },
    {
     "name": "stdout",
     "output_type": "stream",
     "text": [
      "Valid Accuracy of benign: 97.6000%\n",
      "Valid Accuracy of BF: 100.0000%\n",
      "Valid Accuracy of Deauth: 100.0000%\n",
      "Valid Accuracy of SAE_CV: 100.0000%\n",
      "Valid Accuracy of UGD: 100.0000%\n",
      "Valid Accuracy of SAE_AF: 99.7000%\n",
      "Valid Accuracy of TSC: 100.0000%\n",
      "Valid Accuracy of DG: 96.2389%\n",
      "Valid Accuracy of KRACK_DG: 97.6109%\n",
      "Valid Accuracy: 0.9902 | Valid Loss: 0.0000\n",
      "learning rate: [1.0000000000000002e-06]\n",
      "\n",
      "Epoch: 21/50 --- < Starting Time : Fri Aug  2 07:55:17 2024 >\n",
      "-------------------------------------------------------------\n"
     ]
    },
    {
     "data": {
      "application/vnd.jupyter.widget-view+json": {
       "model_id": "77bfcb1995964a34b62b94b4efe5feca",
       "version_major": 2,
       "version_minor": 0
      },
      "text/plain": [
       "  0%|          | 0/863 [00:00<?, ?it/s]"
      ]
     },
     "metadata": {},
     "output_type": "display_data"
    },
    {
     "name": "stdout",
     "output_type": "stream",
     "text": [
      "Train Accuracy of benign :  97.7778 %\n",
      "Train Accuracy of    BF : 100.0000 %\n",
      "Train Accuracy of Deauth : 100.0000 %\n",
      "Train Accuracy of SAE_CV : 100.0000 %\n",
      "Train Accuracy of   UGD : 100.0000 %\n",
      "Train Accuracy of SAE_AF :  99.5778 %\n",
      "Train Accuracy of   TSC : 100.0000 %\n",
      "Train Accuracy of    DG :  96.5937 %\n",
      "Train Accuracy of KRACK_DG :  97.9727 %\n",
      "Training Accuracy:  0.9910244181996364\n"
     ]
    },
    {
     "data": {
      "application/vnd.jupyter.widget-view+json": {
       "model_id": "3d1c71081bb245c2b1ecf66e6dd8ef08",
       "version_major": 2,
       "version_minor": 0
      },
      "text/plain": [
       "  0%|          | 0/96 [00:00<?, ?it/s]"
      ]
     },
     "metadata": {},
     "output_type": "display_data"
    },
    {
     "name": "stdout",
     "output_type": "stream",
     "text": [
      "Valid Accuracy of benign: 97.6000%\n",
      "Valid Accuracy of BF: 100.0000%\n",
      "Valid Accuracy of Deauth: 100.0000%\n",
      "Valid Accuracy of SAE_CV: 100.0000%\n",
      "Valid Accuracy of UGD: 100.0000%\n",
      "Valid Accuracy of SAE_AF: 99.7000%\n",
      "Valid Accuracy of TSC: 100.0000%\n",
      "Valid Accuracy of DG: 96.2389%\n",
      "Valid Accuracy of KRACK_DG: 97.6109%\n",
      "Valid Accuracy: 0.9902 | Valid Loss: 0.0000\n",
      "learning rate: [1.0000000000000002e-06]\n",
      "\n",
      "Epoch: 22/50 --- < Starting Time : Fri Aug  2 07:55:20 2024 >\n",
      "-------------------------------------------------------------\n"
     ]
    },
    {
     "data": {
      "application/vnd.jupyter.widget-view+json": {
       "model_id": "d984f7610e7d4c87ae83afd539094265",
       "version_major": 2,
       "version_minor": 0
      },
      "text/plain": [
       "  0%|          | 0/863 [00:00<?, ?it/s]"
      ]
     },
     "metadata": {},
     "output_type": "display_data"
    },
    {
     "name": "stdout",
     "output_type": "stream",
     "text": [
      "Train Accuracy of benign :  97.7778 %\n",
      "Train Accuracy of    BF : 100.0000 %\n",
      "Train Accuracy of Deauth : 100.0000 %\n",
      "Train Accuracy of SAE_CV : 100.0000 %\n",
      "Train Accuracy of   UGD : 100.0000 %\n",
      "Train Accuracy of SAE_AF :  99.5778 %\n",
      "Train Accuracy of   TSC : 100.0000 %\n",
      "Train Accuracy of    DG :  96.5937 %\n",
      "Train Accuracy of KRACK_DG :  97.9727 %\n",
      "Training Accuracy:  0.9910244181996364\n"
     ]
    },
    {
     "data": {
      "application/vnd.jupyter.widget-view+json": {
       "model_id": "632c6c245643454a8e188a77ad0664fb",
       "version_major": 2,
       "version_minor": 0
      },
      "text/plain": [
       "  0%|          | 0/96 [00:00<?, ?it/s]"
      ]
     },
     "metadata": {},
     "output_type": "display_data"
    },
    {
     "name": "stdout",
     "output_type": "stream",
     "text": [
      "Valid Accuracy of benign: 97.6000%\n",
      "Valid Accuracy of BF: 100.0000%\n",
      "Valid Accuracy of Deauth: 100.0000%\n",
      "Valid Accuracy of SAE_CV: 100.0000%\n",
      "Valid Accuracy of UGD: 100.0000%\n",
      "Valid Accuracy of SAE_AF: 99.7000%\n",
      "Valid Accuracy of TSC: 100.0000%\n",
      "Valid Accuracy of DG: 96.2389%\n",
      "Valid Accuracy of KRACK_DG: 97.6109%\n",
      "Valid Accuracy: 0.9902 | Valid Loss: 0.0000\n",
      "learning rate: [1.0000000000000002e-06]\n",
      "\n",
      "Epoch: 23/50 --- < Starting Time : Fri Aug  2 07:55:24 2024 >\n",
      "-------------------------------------------------------------\n"
     ]
    },
    {
     "data": {
      "application/vnd.jupyter.widget-view+json": {
       "model_id": "552d54338d024a57b0df5ce4e239f504",
       "version_major": 2,
       "version_minor": 0
      },
      "text/plain": [
       "  0%|          | 0/863 [00:00<?, ?it/s]"
      ]
     },
     "metadata": {},
     "output_type": "display_data"
    },
    {
     "name": "stdout",
     "output_type": "stream",
     "text": [
      "Train Accuracy of benign :  97.7778 %\n",
      "Train Accuracy of    BF : 100.0000 %\n",
      "Train Accuracy of Deauth : 100.0000 %\n",
      "Train Accuracy of SAE_CV : 100.0000 %\n",
      "Train Accuracy of   UGD : 100.0000 %\n",
      "Train Accuracy of SAE_AF :  99.5778 %\n",
      "Train Accuracy of   TSC : 100.0000 %\n",
      "Train Accuracy of    DG :  96.5937 %\n",
      "Train Accuracy of KRACK_DG :  97.9727 %\n",
      "Training Accuracy:  0.9910244181996364\n"
     ]
    },
    {
     "data": {
      "application/vnd.jupyter.widget-view+json": {
       "model_id": "f45f4fdbc8af49eba4f4b4bc2c850741",
       "version_major": 2,
       "version_minor": 0
      },
      "text/plain": [
       "  0%|          | 0/96 [00:00<?, ?it/s]"
      ]
     },
     "metadata": {},
     "output_type": "display_data"
    },
    {
     "name": "stdout",
     "output_type": "stream",
     "text": [
      "Valid Accuracy of benign: 97.6000%\n",
      "Valid Accuracy of BF: 100.0000%\n",
      "Valid Accuracy of Deauth: 100.0000%\n",
      "Valid Accuracy of SAE_CV: 100.0000%\n",
      "Valid Accuracy of UGD: 100.0000%\n",
      "Valid Accuracy of SAE_AF: 99.7000%\n",
      "Valid Accuracy of TSC: 100.0000%\n",
      "Valid Accuracy of DG: 96.2389%\n",
      "Valid Accuracy of KRACK_DG: 97.6109%\n",
      "Valid Accuracy: 0.9902 | Valid Loss: 0.0001\n",
      "learning rate: [1.0000000000000002e-06]\n",
      "\n",
      "Epoch: 24/50 --- < Starting Time : Fri Aug  2 07:55:27 2024 >\n",
      "-------------------------------------------------------------\n"
     ]
    },
    {
     "data": {
      "application/vnd.jupyter.widget-view+json": {
       "model_id": "97e2a802d2944bf2aa1e306469f07e87",
       "version_major": 2,
       "version_minor": 0
      },
      "text/plain": [
       "  0%|          | 0/863 [00:00<?, ?it/s]"
      ]
     },
     "metadata": {},
     "output_type": "display_data"
    },
    {
     "name": "stdout",
     "output_type": "stream",
     "text": [
      "Train Accuracy of benign :  97.7778 %\n",
      "Train Accuracy of    BF : 100.0000 %\n",
      "Train Accuracy of Deauth : 100.0000 %\n",
      "Train Accuracy of SAE_CV : 100.0000 %\n",
      "Train Accuracy of   UGD : 100.0000 %\n",
      "Train Accuracy of SAE_AF :  99.5778 %\n",
      "Train Accuracy of   TSC : 100.0000 %\n",
      "Train Accuracy of    DG :  96.5937 %\n",
      "Train Accuracy of KRACK_DG :  97.9727 %\n",
      "Training Accuracy:  0.9910244181996364\n"
     ]
    },
    {
     "data": {
      "application/vnd.jupyter.widget-view+json": {
       "model_id": "9f5badd156b04a08a466774a0926f8b1",
       "version_major": 2,
       "version_minor": 0
      },
      "text/plain": [
       "  0%|          | 0/96 [00:00<?, ?it/s]"
      ]
     },
     "metadata": {},
     "output_type": "display_data"
    },
    {
     "name": "stdout",
     "output_type": "stream",
     "text": [
      "Valid Accuracy of benign: 97.6000%\n",
      "Valid Accuracy of BF: 100.0000%\n",
      "Valid Accuracy of Deauth: 100.0000%\n",
      "Valid Accuracy of SAE_CV: 100.0000%\n",
      "Valid Accuracy of UGD: 100.0000%\n",
      "Valid Accuracy of SAE_AF: 99.7000%\n",
      "Valid Accuracy of TSC: 100.0000%\n",
      "Valid Accuracy of DG: 96.2389%\n",
      "Valid Accuracy of KRACK_DG: 97.6109%\n",
      "Valid Accuracy: 0.9902 | Valid Loss: 0.0001\n",
      "learning rate: [1.0000000000000002e-06]\n",
      "\n",
      "Epoch: 25/50 --- < Starting Time : Fri Aug  2 07:55:31 2024 >\n",
      "-------------------------------------------------------------\n"
     ]
    },
    {
     "data": {
      "application/vnd.jupyter.widget-view+json": {
       "model_id": "da4e5d6c6dae475d87b1e18719d27ad2",
       "version_major": 2,
       "version_minor": 0
      },
      "text/plain": [
       "  0%|          | 0/863 [00:00<?, ?it/s]"
      ]
     },
     "metadata": {},
     "output_type": "display_data"
    },
    {
     "name": "stdout",
     "output_type": "stream",
     "text": [
      "Train Accuracy of benign :  97.7778 %\n",
      "Train Accuracy of    BF : 100.0000 %\n",
      "Train Accuracy of Deauth : 100.0000 %\n",
      "Train Accuracy of SAE_CV : 100.0000 %\n",
      "Train Accuracy of   UGD : 100.0000 %\n",
      "Train Accuracy of SAE_AF :  99.5778 %\n",
      "Train Accuracy of   TSC : 100.0000 %\n",
      "Train Accuracy of    DG :  96.5937 %\n",
      "Train Accuracy of KRACK_DG :  97.9727 %\n",
      "Training Accuracy:  0.9910244181996364\n"
     ]
    },
    {
     "data": {
      "application/vnd.jupyter.widget-view+json": {
       "model_id": "eeef093bac424c0e9cab4f57d55ef292",
       "version_major": 2,
       "version_minor": 0
      },
      "text/plain": [
       "  0%|          | 0/96 [00:00<?, ?it/s]"
      ]
     },
     "metadata": {},
     "output_type": "display_data"
    },
    {
     "name": "stdout",
     "output_type": "stream",
     "text": [
      "Valid Accuracy of benign: 97.6000%\n",
      "Valid Accuracy of BF: 100.0000%\n",
      "Valid Accuracy of Deauth: 100.0000%\n",
      "Valid Accuracy of SAE_CV: 100.0000%\n",
      "Valid Accuracy of UGD: 100.0000%\n",
      "Valid Accuracy of SAE_AF: 99.7000%\n",
      "Valid Accuracy of TSC: 100.0000%\n",
      "Valid Accuracy of DG: 96.2389%\n",
      "Valid Accuracy of KRACK_DG: 97.6109%\n",
      "Valid Accuracy: 0.9902 | Valid Loss: 0.0000\n",
      "learning rate: [1.0000000000000002e-06]\n",
      "\n",
      "Epoch: 26/50 --- < Starting Time : Fri Aug  2 07:55:37 2024 >\n",
      "-------------------------------------------------------------\n"
     ]
    },
    {
     "data": {
      "application/vnd.jupyter.widget-view+json": {
       "model_id": "09e7a34ec5a747bdaef7f68766b0e82a",
       "version_major": 2,
       "version_minor": 0
      },
      "text/plain": [
       "  0%|          | 0/863 [00:00<?, ?it/s]"
      ]
     },
     "metadata": {},
     "output_type": "display_data"
    },
    {
     "name": "stdout",
     "output_type": "stream",
     "text": [
      "Train Accuracy of benign :  97.7778 %\n",
      "Train Accuracy of    BF : 100.0000 %\n",
      "Train Accuracy of Deauth : 100.0000 %\n",
      "Train Accuracy of SAE_CV : 100.0000 %\n",
      "Train Accuracy of   UGD : 100.0000 %\n",
      "Train Accuracy of SAE_AF :  99.5778 %\n",
      "Train Accuracy of   TSC : 100.0000 %\n",
      "Train Accuracy of    DG :  96.5937 %\n",
      "Train Accuracy of KRACK_DG :  97.9727 %\n",
      "Training Accuracy:  0.9910244181996364\n"
     ]
    },
    {
     "data": {
      "application/vnd.jupyter.widget-view+json": {
       "model_id": "332a411358e54119b8c4d813c16f19f6",
       "version_major": 2,
       "version_minor": 0
      },
      "text/plain": [
       "  0%|          | 0/96 [00:00<?, ?it/s]"
      ]
     },
     "metadata": {},
     "output_type": "display_data"
    },
    {
     "name": "stdout",
     "output_type": "stream",
     "text": [
      "Valid Accuracy of benign: 97.6000%\n",
      "Valid Accuracy of BF: 100.0000%\n",
      "Valid Accuracy of Deauth: 100.0000%\n",
      "Valid Accuracy of SAE_CV: 100.0000%\n",
      "Valid Accuracy of UGD: 100.0000%\n",
      "Valid Accuracy of SAE_AF: 99.7000%\n",
      "Valid Accuracy of TSC: 100.0000%\n",
      "Valid Accuracy of DG: 96.2389%\n",
      "Valid Accuracy of KRACK_DG: 97.6109%\n",
      "Valid Accuracy: 0.9902 | Valid Loss: 0.0000\n",
      "learning rate: [1.0000000000000002e-06]\n",
      "\n",
      "Epoch: 27/50 --- < Starting Time : Fri Aug  2 07:55:44 2024 >\n",
      "-------------------------------------------------------------\n"
     ]
    },
    {
     "data": {
      "application/vnd.jupyter.widget-view+json": {
       "model_id": "fd49d25f92e047afae24f495b227b536",
       "version_major": 2,
       "version_minor": 0
      },
      "text/plain": [
       "  0%|          | 0/863 [00:00<?, ?it/s]"
      ]
     },
     "metadata": {},
     "output_type": "display_data"
    },
    {
     "name": "stdout",
     "output_type": "stream",
     "text": [
      "Train Accuracy of benign :  97.7778 %\n",
      "Train Accuracy of    BF : 100.0000 %\n",
      "Train Accuracy of Deauth : 100.0000 %\n",
      "Train Accuracy of SAE_CV : 100.0000 %\n",
      "Train Accuracy of   UGD : 100.0000 %\n",
      "Train Accuracy of SAE_AF :  99.5778 %\n",
      "Train Accuracy of   TSC : 100.0000 %\n",
      "Train Accuracy of    DG :  96.5937 %\n",
      "Train Accuracy of KRACK_DG :  97.9727 %\n",
      "Training Accuracy:  0.9910244181996364\n"
     ]
    },
    {
     "data": {
      "application/vnd.jupyter.widget-view+json": {
       "model_id": "ccf7902b8ded4a0abdaece0f8363ee8d",
       "version_major": 2,
       "version_minor": 0
      },
      "text/plain": [
       "  0%|          | 0/96 [00:00<?, ?it/s]"
      ]
     },
     "metadata": {},
     "output_type": "display_data"
    },
    {
     "name": "stdout",
     "output_type": "stream",
     "text": [
      "Valid Accuracy of benign: 97.6000%\n",
      "Valid Accuracy of BF: 100.0000%\n",
      "Valid Accuracy of Deauth: 100.0000%\n",
      "Valid Accuracy of SAE_CV: 100.0000%\n",
      "Valid Accuracy of UGD: 100.0000%\n",
      "Valid Accuracy of SAE_AF: 99.7000%\n",
      "Valid Accuracy of TSC: 100.0000%\n",
      "Valid Accuracy of DG: 96.2389%\n",
      "Valid Accuracy of KRACK_DG: 97.6109%\n",
      "Valid Accuracy: 0.9902 | Valid Loss: 0.0001\n",
      "learning rate: [1.0000000000000002e-07]\n",
      "\n",
      "Epoch: 28/50 --- < Starting Time : Fri Aug  2 07:55:50 2024 >\n",
      "-------------------------------------------------------------\n"
     ]
    },
    {
     "data": {
      "application/vnd.jupyter.widget-view+json": {
       "model_id": "c8395703b8914a8886e2dc2d7b381890",
       "version_major": 2,
       "version_minor": 0
      },
      "text/plain": [
       "  0%|          | 0/863 [00:00<?, ?it/s]"
      ]
     },
     "metadata": {},
     "output_type": "display_data"
    },
    {
     "name": "stdout",
     "output_type": "stream",
     "text": [
      "Train Accuracy of benign :  97.7778 %\n",
      "Train Accuracy of    BF : 100.0000 %\n",
      "Train Accuracy of Deauth : 100.0000 %\n",
      "Train Accuracy of SAE_CV : 100.0000 %\n",
      "Train Accuracy of   UGD : 100.0000 %\n",
      "Train Accuracy of SAE_AF :  99.5778 %\n",
      "Train Accuracy of   TSC : 100.0000 %\n",
      "Train Accuracy of    DG :  96.5937 %\n",
      "Train Accuracy of KRACK_DG :  97.9727 %\n",
      "Training Accuracy:  0.9910244181996364\n"
     ]
    },
    {
     "data": {
      "application/vnd.jupyter.widget-view+json": {
       "model_id": "63ec79775a13480b90f01d3d2e0f49d4",
       "version_major": 2,
       "version_minor": 0
      },
      "text/plain": [
       "  0%|          | 0/96 [00:00<?, ?it/s]"
      ]
     },
     "metadata": {},
     "output_type": "display_data"
    },
    {
     "name": "stdout",
     "output_type": "stream",
     "text": [
      "Valid Accuracy of benign: 97.6000%\n",
      "Valid Accuracy of BF: 100.0000%\n",
      "Valid Accuracy of Deauth: 100.0000%\n",
      "Valid Accuracy of SAE_CV: 100.0000%\n",
      "Valid Accuracy of UGD: 100.0000%\n",
      "Valid Accuracy of SAE_AF: 99.7000%\n",
      "Valid Accuracy of TSC: 100.0000%\n",
      "Valid Accuracy of DG: 96.2389%\n",
      "Valid Accuracy of KRACK_DG: 97.6109%\n",
      "Valid Accuracy: 0.9902 | Valid Loss: 0.0000\n",
      "learning rate: [1.0000000000000002e-07]\n",
      "\n",
      "Epoch: 29/50 --- < Starting Time : Fri Aug  2 07:55:57 2024 >\n",
      "-------------------------------------------------------------\n"
     ]
    },
    {
     "data": {
      "application/vnd.jupyter.widget-view+json": {
       "model_id": "8bdc127ace1e42deb63ccacab3cd17e3",
       "version_major": 2,
       "version_minor": 0
      },
      "text/plain": [
       "  0%|          | 0/863 [00:00<?, ?it/s]"
      ]
     },
     "metadata": {},
     "output_type": "display_data"
    },
    {
     "name": "stdout",
     "output_type": "stream",
     "text": [
      "Train Accuracy of benign :  97.7778 %\n",
      "Train Accuracy of    BF : 100.0000 %\n",
      "Train Accuracy of Deauth : 100.0000 %\n",
      "Train Accuracy of SAE_CV : 100.0000 %\n",
      "Train Accuracy of   UGD : 100.0000 %\n",
      "Train Accuracy of SAE_AF :  99.5778 %\n",
      "Train Accuracy of   TSC : 100.0000 %\n",
      "Train Accuracy of    DG :  96.5937 %\n",
      "Train Accuracy of KRACK_DG :  97.9727 %\n",
      "Training Accuracy:  0.9910244181996364\n"
     ]
    },
    {
     "data": {
      "application/vnd.jupyter.widget-view+json": {
       "model_id": "8bca3f7d0fac430db6319e583b293857",
       "version_major": 2,
       "version_minor": 0
      },
      "text/plain": [
       "  0%|          | 0/96 [00:00<?, ?it/s]"
      ]
     },
     "metadata": {},
     "output_type": "display_data"
    },
    {
     "name": "stdout",
     "output_type": "stream",
     "text": [
      "Valid Accuracy of benign: 97.6000%\n",
      "Valid Accuracy of BF: 100.0000%\n",
      "Valid Accuracy of Deauth: 100.0000%\n",
      "Valid Accuracy of SAE_CV: 100.0000%\n",
      "Valid Accuracy of UGD: 100.0000%\n",
      "Valid Accuracy of SAE_AF: 99.7000%\n",
      "Valid Accuracy of TSC: 100.0000%\n",
      "Valid Accuracy of DG: 96.2389%\n",
      "Valid Accuracy of KRACK_DG: 97.6109%\n",
      "Valid Accuracy: 0.9902 | Valid Loss: 0.0002\n",
      "learning rate: [1.0000000000000002e-07]\n",
      "\n",
      "Epoch: 30/50 --- < Starting Time : Fri Aug  2 07:56:03 2024 >\n",
      "-------------------------------------------------------------\n"
     ]
    },
    {
     "data": {
      "application/vnd.jupyter.widget-view+json": {
       "model_id": "57d3ede86f59475dbaa9d1fc445d6a91",
       "version_major": 2,
       "version_minor": 0
      },
      "text/plain": [
       "  0%|          | 0/863 [00:00<?, ?it/s]"
      ]
     },
     "metadata": {},
     "output_type": "display_data"
    },
    {
     "name": "stdout",
     "output_type": "stream",
     "text": [
      "Train Accuracy of benign :  97.7778 %\n",
      "Train Accuracy of    BF : 100.0000 %\n",
      "Train Accuracy of Deauth : 100.0000 %\n",
      "Train Accuracy of SAE_CV : 100.0000 %\n",
      "Train Accuracy of   UGD : 100.0000 %\n",
      "Train Accuracy of SAE_AF :  99.5778 %\n",
      "Train Accuracy of   TSC : 100.0000 %\n",
      "Train Accuracy of    DG :  96.5937 %\n",
      "Train Accuracy of KRACK_DG :  97.9727 %\n",
      "Training Accuracy:  0.9910244181996364\n"
     ]
    },
    {
     "data": {
      "application/vnd.jupyter.widget-view+json": {
       "model_id": "e36aaf06afa64797bc735165add41d03",
       "version_major": 2,
       "version_minor": 0
      },
      "text/plain": [
       "  0%|          | 0/96 [00:00<?, ?it/s]"
      ]
     },
     "metadata": {},
     "output_type": "display_data"
    },
    {
     "name": "stdout",
     "output_type": "stream",
     "text": [
      "Valid Accuracy of benign: 97.6000%\n",
      "Valid Accuracy of BF: 100.0000%\n",
      "Valid Accuracy of Deauth: 100.0000%\n",
      "Valid Accuracy of SAE_CV: 100.0000%\n",
      "Valid Accuracy of UGD: 100.0000%\n",
      "Valid Accuracy of SAE_AF: 99.7000%\n",
      "Valid Accuracy of TSC: 100.0000%\n",
      "Valid Accuracy of DG: 96.2389%\n",
      "Valid Accuracy of KRACK_DG: 97.6109%\n",
      "Valid Accuracy: 0.9902 | Valid Loss: 0.0000\n",
      "learning rate: [1.0000000000000002e-07]\n",
      "\n",
      "Epoch: 31/50 --- < Starting Time : Fri Aug  2 07:56:09 2024 >\n",
      "-------------------------------------------------------------\n"
     ]
    },
    {
     "data": {
      "application/vnd.jupyter.widget-view+json": {
       "model_id": "656e9c6be1f5434ba650869862f1ce57",
       "version_major": 2,
       "version_minor": 0
      },
      "text/plain": [
       "  0%|          | 0/863 [00:00<?, ?it/s]"
      ]
     },
     "metadata": {},
     "output_type": "display_data"
    },
    {
     "name": "stdout",
     "output_type": "stream",
     "text": [
      "Train Accuracy of benign :  97.7778 %\n",
      "Train Accuracy of    BF : 100.0000 %\n",
      "Train Accuracy of Deauth : 100.0000 %\n",
      "Train Accuracy of SAE_CV : 100.0000 %\n",
      "Train Accuracy of   UGD : 100.0000 %\n",
      "Train Accuracy of SAE_AF :  99.5778 %\n",
      "Train Accuracy of   TSC : 100.0000 %\n",
      "Train Accuracy of    DG :  96.5937 %\n",
      "Train Accuracy of KRACK_DG :  97.9727 %\n",
      "Training Accuracy:  0.9910244181996364\n"
     ]
    },
    {
     "data": {
      "application/vnd.jupyter.widget-view+json": {
       "model_id": "cabd84f6913440d2b7fdf408d48c361f",
       "version_major": 2,
       "version_minor": 0
      },
      "text/plain": [
       "  0%|          | 0/96 [00:00<?, ?it/s]"
      ]
     },
     "metadata": {},
     "output_type": "display_data"
    },
    {
     "name": "stdout",
     "output_type": "stream",
     "text": [
      "Valid Accuracy of benign: 97.6000%\n",
      "Valid Accuracy of BF: 100.0000%\n",
      "Valid Accuracy of Deauth: 100.0000%\n",
      "Valid Accuracy of SAE_CV: 100.0000%\n",
      "Valid Accuracy of UGD: 100.0000%\n",
      "Valid Accuracy of SAE_AF: 99.7000%\n",
      "Valid Accuracy of TSC: 100.0000%\n",
      "Valid Accuracy of DG: 96.2389%\n",
      "Valid Accuracy of KRACK_DG: 97.6109%\n",
      "Valid Accuracy: 0.9902 | Valid Loss: 0.0000\n",
      "learning rate: [1.0000000000000002e-07]\n",
      "\n",
      "Epoch: 32/50 --- < Starting Time : Fri Aug  2 07:56:16 2024 >\n",
      "-------------------------------------------------------------\n"
     ]
    },
    {
     "data": {
      "application/vnd.jupyter.widget-view+json": {
       "model_id": "e07fba2903624d7384abb963215853d8",
       "version_major": 2,
       "version_minor": 0
      },
      "text/plain": [
       "  0%|          | 0/863 [00:00<?, ?it/s]"
      ]
     },
     "metadata": {},
     "output_type": "display_data"
    },
    {
     "name": "stdout",
     "output_type": "stream",
     "text": [
      "Train Accuracy of benign :  97.7778 %\n",
      "Train Accuracy of    BF : 100.0000 %\n",
      "Train Accuracy of Deauth : 100.0000 %\n",
      "Train Accuracy of SAE_CV : 100.0000 %\n",
      "Train Accuracy of   UGD : 100.0000 %\n",
      "Train Accuracy of SAE_AF :  99.5778 %\n",
      "Train Accuracy of   TSC : 100.0000 %\n",
      "Train Accuracy of    DG :  96.5937 %\n",
      "Train Accuracy of KRACK_DG :  97.9727 %\n",
      "Training Accuracy:  0.9910244181996364\n"
     ]
    },
    {
     "data": {
      "application/vnd.jupyter.widget-view+json": {
       "model_id": "86d1f3c180d34532a3465cdc1717546e",
       "version_major": 2,
       "version_minor": 0
      },
      "text/plain": [
       "  0%|          | 0/96 [00:00<?, ?it/s]"
      ]
     },
     "metadata": {},
     "output_type": "display_data"
    },
    {
     "name": "stdout",
     "output_type": "stream",
     "text": [
      "Valid Accuracy of benign: 97.6000%\n",
      "Valid Accuracy of BF: 100.0000%\n",
      "Valid Accuracy of Deauth: 100.0000%\n",
      "Valid Accuracy of SAE_CV: 100.0000%\n",
      "Valid Accuracy of UGD: 100.0000%\n",
      "Valid Accuracy of SAE_AF: 99.7000%\n",
      "Valid Accuracy of TSC: 100.0000%\n",
      "Valid Accuracy of DG: 96.2389%\n",
      "Valid Accuracy of KRACK_DG: 97.6109%\n",
      "Valid Accuracy: 0.9902 | Valid Loss: 0.0002\n",
      "learning rate: [1.0000000000000002e-07]\n",
      "\n",
      "Epoch: 33/50 --- < Starting Time : Fri Aug  2 07:56:22 2024 >\n",
      "-------------------------------------------------------------\n"
     ]
    },
    {
     "data": {
      "application/vnd.jupyter.widget-view+json": {
       "model_id": "47b32d617b7b4c76a8217e637741ec7b",
       "version_major": 2,
       "version_minor": 0
      },
      "text/plain": [
       "  0%|          | 0/863 [00:00<?, ?it/s]"
      ]
     },
     "metadata": {},
     "output_type": "display_data"
    },
    {
     "name": "stdout",
     "output_type": "stream",
     "text": [
      "Train Accuracy of benign :  97.7778 %\n",
      "Train Accuracy of    BF : 100.0000 %\n",
      "Train Accuracy of Deauth : 100.0000 %\n",
      "Train Accuracy of SAE_CV : 100.0000 %\n",
      "Train Accuracy of   UGD : 100.0000 %\n",
      "Train Accuracy of SAE_AF :  99.5778 %\n",
      "Train Accuracy of   TSC : 100.0000 %\n",
      "Train Accuracy of    DG :  96.5937 %\n",
      "Train Accuracy of KRACK_DG :  97.9727 %\n",
      "Training Accuracy:  0.9910244181996364\n"
     ]
    },
    {
     "data": {
      "application/vnd.jupyter.widget-view+json": {
       "model_id": "7a2967d70bc041e28d16afb4595c7501",
       "version_major": 2,
       "version_minor": 0
      },
      "text/plain": [
       "  0%|          | 0/96 [00:00<?, ?it/s]"
      ]
     },
     "metadata": {},
     "output_type": "display_data"
    },
    {
     "name": "stdout",
     "output_type": "stream",
     "text": [
      "Valid Accuracy of benign: 97.6000%\n",
      "Valid Accuracy of BF: 100.0000%\n",
      "Valid Accuracy of Deauth: 100.0000%\n",
      "Valid Accuracy of SAE_CV: 100.0000%\n",
      "Valid Accuracy of UGD: 100.0000%\n",
      "Valid Accuracy of SAE_AF: 99.7000%\n",
      "Valid Accuracy of TSC: 100.0000%\n",
      "Valid Accuracy of DG: 96.2389%\n",
      "Valid Accuracy of KRACK_DG: 97.6109%\n",
      "Valid Accuracy: 0.9902 | Valid Loss: 0.0000\n",
      "learning rate: [1.0000000000000002e-07]\n",
      "\n",
      "Epoch: 34/50 --- < Starting Time : Fri Aug  2 07:56:29 2024 >\n",
      "-------------------------------------------------------------\n"
     ]
    },
    {
     "data": {
      "application/vnd.jupyter.widget-view+json": {
       "model_id": "0e239c4afc234ca9932803f5fcc34050",
       "version_major": 2,
       "version_minor": 0
      },
      "text/plain": [
       "  0%|          | 0/863 [00:00<?, ?it/s]"
      ]
     },
     "metadata": {},
     "output_type": "display_data"
    },
    {
     "name": "stdout",
     "output_type": "stream",
     "text": [
      "Train Accuracy of benign :  97.7778 %\n",
      "Train Accuracy of    BF : 100.0000 %\n",
      "Train Accuracy of Deauth : 100.0000 %\n",
      "Train Accuracy of SAE_CV : 100.0000 %\n",
      "Train Accuracy of   UGD : 100.0000 %\n",
      "Train Accuracy of SAE_AF :  99.5778 %\n",
      "Train Accuracy of   TSC : 100.0000 %\n",
      "Train Accuracy of    DG :  96.5937 %\n",
      "Train Accuracy of KRACK_DG :  97.9727 %\n",
      "Training Accuracy:  0.9910244181996364\n"
     ]
    },
    {
     "data": {
      "application/vnd.jupyter.widget-view+json": {
       "model_id": "7275b9af9f144a93a45d66f6ab7e7384",
       "version_major": 2,
       "version_minor": 0
      },
      "text/plain": [
       "  0%|          | 0/96 [00:00<?, ?it/s]"
      ]
     },
     "metadata": {},
     "output_type": "display_data"
    },
    {
     "name": "stdout",
     "output_type": "stream",
     "text": [
      "Valid Accuracy of benign: 97.6000%\n",
      "Valid Accuracy of BF: 100.0000%\n",
      "Valid Accuracy of Deauth: 100.0000%\n",
      "Valid Accuracy of SAE_CV: 100.0000%\n",
      "Valid Accuracy of UGD: 100.0000%\n",
      "Valid Accuracy of SAE_AF: 99.7000%\n",
      "Valid Accuracy of TSC: 100.0000%\n",
      "Valid Accuracy of DG: 96.2389%\n",
      "Valid Accuracy of KRACK_DG: 97.6109%\n",
      "Valid Accuracy: 0.9902 | Valid Loss: 0.0000\n",
      "learning rate: [1.0000000000000004e-08]\n",
      "\n",
      "Epoch: 35/50 --- < Starting Time : Fri Aug  2 07:56:34 2024 >\n",
      "-------------------------------------------------------------\n"
     ]
    },
    {
     "data": {
      "application/vnd.jupyter.widget-view+json": {
       "model_id": "85f72db7c20646e1981d40de66a797d2",
       "version_major": 2,
       "version_minor": 0
      },
      "text/plain": [
       "  0%|          | 0/863 [00:00<?, ?it/s]"
      ]
     },
     "metadata": {},
     "output_type": "display_data"
    },
    {
     "name": "stdout",
     "output_type": "stream",
     "text": [
      "Train Accuracy of benign :  97.7778 %\n",
      "Train Accuracy of    BF : 100.0000 %\n",
      "Train Accuracy of Deauth : 100.0000 %\n",
      "Train Accuracy of SAE_CV : 100.0000 %\n",
      "Train Accuracy of   UGD : 100.0000 %\n",
      "Train Accuracy of SAE_AF :  99.5778 %\n",
      "Train Accuracy of   TSC : 100.0000 %\n",
      "Train Accuracy of    DG :  96.5937 %\n",
      "Train Accuracy of KRACK_DG :  97.9727 %\n",
      "Training Accuracy:  0.9910244181996364\n"
     ]
    },
    {
     "data": {
      "application/vnd.jupyter.widget-view+json": {
       "model_id": "a9b96cc2a1c743229ce41399895349ff",
       "version_major": 2,
       "version_minor": 0
      },
      "text/plain": [
       "  0%|          | 0/96 [00:00<?, ?it/s]"
      ]
     },
     "metadata": {},
     "output_type": "display_data"
    },
    {
     "name": "stdout",
     "output_type": "stream",
     "text": [
      "Valid Accuracy of benign: 97.6000%\n",
      "Valid Accuracy of BF: 100.0000%\n",
      "Valid Accuracy of Deauth: 100.0000%\n",
      "Valid Accuracy of SAE_CV: 100.0000%\n",
      "Valid Accuracy of UGD: 100.0000%\n",
      "Valid Accuracy of SAE_AF: 99.7000%\n",
      "Valid Accuracy of TSC: 100.0000%\n",
      "Valid Accuracy of DG: 96.2389%\n",
      "Valid Accuracy of KRACK_DG: 97.6109%\n",
      "Valid Accuracy: 0.9902 | Valid Loss: 0.0000\n",
      "learning rate: [1.0000000000000004e-08]\n",
      "\n",
      "Epoch: 36/50 --- < Starting Time : Fri Aug  2 07:56:39 2024 >\n",
      "-------------------------------------------------------------\n"
     ]
    },
    {
     "data": {
      "application/vnd.jupyter.widget-view+json": {
       "model_id": "48774389edcf4bb88056ec12b77c4971",
       "version_major": 2,
       "version_minor": 0
      },
      "text/plain": [
       "  0%|          | 0/863 [00:00<?, ?it/s]"
      ]
     },
     "metadata": {},
     "output_type": "display_data"
    },
    {
     "name": "stdout",
     "output_type": "stream",
     "text": [
      "Train Accuracy of benign :  97.7778 %\n",
      "Train Accuracy of    BF : 100.0000 %\n",
      "Train Accuracy of Deauth : 100.0000 %\n",
      "Train Accuracy of SAE_CV : 100.0000 %\n",
      "Train Accuracy of   UGD : 100.0000 %\n",
      "Train Accuracy of SAE_AF :  99.5778 %\n",
      "Train Accuracy of   TSC : 100.0000 %\n",
      "Train Accuracy of    DG :  96.5937 %\n",
      "Train Accuracy of KRACK_DG :  97.9727 %\n",
      "Training Accuracy:  0.9910244181996364\n"
     ]
    },
    {
     "data": {
      "application/vnd.jupyter.widget-view+json": {
       "model_id": "4c28ab4dd3734d9eb5cf79023aa628e1",
       "version_major": 2,
       "version_minor": 0
      },
      "text/plain": [
       "  0%|          | 0/96 [00:00<?, ?it/s]"
      ]
     },
     "metadata": {},
     "output_type": "display_data"
    },
    {
     "name": "stdout",
     "output_type": "stream",
     "text": [
      "Valid Accuracy of benign: 97.6000%\n",
      "Valid Accuracy of BF: 100.0000%\n",
      "Valid Accuracy of Deauth: 100.0000%\n",
      "Valid Accuracy of SAE_CV: 100.0000%\n",
      "Valid Accuracy of UGD: 100.0000%\n",
      "Valid Accuracy of SAE_AF: 99.7000%\n",
      "Valid Accuracy of TSC: 100.0000%\n",
      "Valid Accuracy of DG: 96.2389%\n",
      "Valid Accuracy of KRACK_DG: 97.6109%\n",
      "Valid Accuracy: 0.9902 | Valid Loss: 0.0020\n",
      "learning rate: [1.0000000000000004e-08]\n",
      "\n",
      "Epoch: 37/50 --- < Starting Time : Fri Aug  2 07:56:42 2024 >\n",
      "-------------------------------------------------------------\n"
     ]
    },
    {
     "data": {
      "application/vnd.jupyter.widget-view+json": {
       "model_id": "2cd4506765294c34a5faef8110c3dea8",
       "version_major": 2,
       "version_minor": 0
      },
      "text/plain": [
       "  0%|          | 0/863 [00:00<?, ?it/s]"
      ]
     },
     "metadata": {},
     "output_type": "display_data"
    },
    {
     "name": "stdout",
     "output_type": "stream",
     "text": [
      "Train Accuracy of benign :  97.7778 %\n",
      "Train Accuracy of    BF : 100.0000 %\n",
      "Train Accuracy of Deauth : 100.0000 %\n",
      "Train Accuracy of SAE_CV : 100.0000 %\n",
      "Train Accuracy of   UGD : 100.0000 %\n",
      "Train Accuracy of SAE_AF :  99.5778 %\n",
      "Train Accuracy of   TSC : 100.0000 %\n",
      "Train Accuracy of    DG :  96.5937 %\n",
      "Train Accuracy of KRACK_DG :  97.9727 %\n",
      "Training Accuracy:  0.9910244181996364\n"
     ]
    },
    {
     "data": {
      "application/vnd.jupyter.widget-view+json": {
       "model_id": "62a39c4071004f0a9cd920d76fa2f8f4",
       "version_major": 2,
       "version_minor": 0
      },
      "text/plain": [
       "  0%|          | 0/96 [00:00<?, ?it/s]"
      ]
     },
     "metadata": {},
     "output_type": "display_data"
    },
    {
     "name": "stdout",
     "output_type": "stream",
     "text": [
      "Valid Accuracy of benign: 97.6000%\n",
      "Valid Accuracy of BF: 100.0000%\n",
      "Valid Accuracy of Deauth: 100.0000%\n",
      "Valid Accuracy of SAE_CV: 100.0000%\n",
      "Valid Accuracy of UGD: 100.0000%\n",
      "Valid Accuracy of SAE_AF: 99.7000%\n",
      "Valid Accuracy of TSC: 100.0000%\n",
      "Valid Accuracy of DG: 96.2389%\n",
      "Valid Accuracy of KRACK_DG: 97.6109%\n",
      "Valid Accuracy: 0.9902 | Valid Loss: 0.0034\n",
      "learning rate: [1.0000000000000004e-08]\n",
      "\n",
      "Epoch: 38/50 --- < Starting Time : Fri Aug  2 07:56:45 2024 >\n",
      "-------------------------------------------------------------\n"
     ]
    },
    {
     "data": {
      "application/vnd.jupyter.widget-view+json": {
       "model_id": "5341d2fff5f24550b9debf95aca46f85",
       "version_major": 2,
       "version_minor": 0
      },
      "text/plain": [
       "  0%|          | 0/863 [00:00<?, ?it/s]"
      ]
     },
     "metadata": {},
     "output_type": "display_data"
    },
    {
     "name": "stdout",
     "output_type": "stream",
     "text": [
      "Train Accuracy of benign :  97.7778 %\n",
      "Train Accuracy of    BF : 100.0000 %\n",
      "Train Accuracy of Deauth : 100.0000 %\n",
      "Train Accuracy of SAE_CV : 100.0000 %\n",
      "Train Accuracy of   UGD : 100.0000 %\n",
      "Train Accuracy of SAE_AF :  99.5778 %\n",
      "Train Accuracy of   TSC : 100.0000 %\n",
      "Train Accuracy of    DG :  96.5937 %\n",
      "Train Accuracy of KRACK_DG :  97.9727 %\n",
      "Training Accuracy:  0.9910244181996364\n"
     ]
    },
    {
     "data": {
      "application/vnd.jupyter.widget-view+json": {
       "model_id": "a90a30e13ba84194bbf4116967db2f91",
       "version_major": 2,
       "version_minor": 0
      },
      "text/plain": [
       "  0%|          | 0/96 [00:00<?, ?it/s]"
      ]
     },
     "metadata": {},
     "output_type": "display_data"
    },
    {
     "name": "stdout",
     "output_type": "stream",
     "text": [
      "Valid Accuracy of benign: 97.6000%\n",
      "Valid Accuracy of BF: 100.0000%\n",
      "Valid Accuracy of Deauth: 100.0000%\n",
      "Valid Accuracy of SAE_CV: 100.0000%\n",
      "Valid Accuracy of UGD: 100.0000%\n",
      "Valid Accuracy of SAE_AF: 99.7000%\n",
      "Valid Accuracy of TSC: 100.0000%\n",
      "Valid Accuracy of DG: 96.2389%\n",
      "Valid Accuracy of KRACK_DG: 97.6109%\n",
      "Valid Accuracy: 0.9902 | Valid Loss: 0.0000\n",
      "learning rate: [1.0000000000000004e-08]\n",
      "\n",
      "Epoch: 39/50 --- < Starting Time : Fri Aug  2 07:56:49 2024 >\n",
      "-------------------------------------------------------------\n"
     ]
    },
    {
     "data": {
      "application/vnd.jupyter.widget-view+json": {
       "model_id": "b0d9d91f5b864a9cb4c037e57e4ef78e",
       "version_major": 2,
       "version_minor": 0
      },
      "text/plain": [
       "  0%|          | 0/863 [00:00<?, ?it/s]"
      ]
     },
     "metadata": {},
     "output_type": "display_data"
    },
    {
     "name": "stdout",
     "output_type": "stream",
     "text": [
      "Train Accuracy of benign :  97.7778 %\n",
      "Train Accuracy of    BF : 100.0000 %\n",
      "Train Accuracy of Deauth : 100.0000 %\n",
      "Train Accuracy of SAE_CV : 100.0000 %\n",
      "Train Accuracy of   UGD : 100.0000 %\n",
      "Train Accuracy of SAE_AF :  99.5778 %\n",
      "Train Accuracy of   TSC : 100.0000 %\n",
      "Train Accuracy of    DG :  96.5937 %\n",
      "Train Accuracy of KRACK_DG :  97.9727 %\n",
      "Training Accuracy:  0.9910244181996364\n"
     ]
    },
    {
     "data": {
      "application/vnd.jupyter.widget-view+json": {
       "model_id": "6f2beb4b31a64a90a312b63df0875d03",
       "version_major": 2,
       "version_minor": 0
      },
      "text/plain": [
       "  0%|          | 0/96 [00:00<?, ?it/s]"
      ]
     },
     "metadata": {},
     "output_type": "display_data"
    },
    {
     "name": "stdout",
     "output_type": "stream",
     "text": [
      "Valid Accuracy of benign: 97.6000%\n",
      "Valid Accuracy of BF: 100.0000%\n",
      "Valid Accuracy of Deauth: 100.0000%\n",
      "Valid Accuracy of SAE_CV: 100.0000%\n",
      "Valid Accuracy of UGD: 100.0000%\n",
      "Valid Accuracy of SAE_AF: 99.7000%\n",
      "Valid Accuracy of TSC: 100.0000%\n",
      "Valid Accuracy of DG: 96.2389%\n",
      "Valid Accuracy of KRACK_DG: 97.6109%\n",
      "Valid Accuracy: 0.9902 | Valid Loss: 0.0001\n",
      "learning rate: [1.0000000000000004e-08]\n",
      "\n",
      "Epoch: 40/50 --- < Starting Time : Fri Aug  2 07:56:54 2024 >\n",
      "-------------------------------------------------------------\n"
     ]
    },
    {
     "data": {
      "application/vnd.jupyter.widget-view+json": {
       "model_id": "4b7ab05a7d754534b41c967000318633",
       "version_major": 2,
       "version_minor": 0
      },
      "text/plain": [
       "  0%|          | 0/863 [00:00<?, ?it/s]"
      ]
     },
     "metadata": {},
     "output_type": "display_data"
    },
    {
     "name": "stdout",
     "output_type": "stream",
     "text": [
      "Train Accuracy of benign :  97.7778 %\n",
      "Train Accuracy of    BF : 100.0000 %\n",
      "Train Accuracy of Deauth : 100.0000 %\n",
      "Train Accuracy of SAE_CV : 100.0000 %\n",
      "Train Accuracy of   UGD : 100.0000 %\n",
      "Train Accuracy of SAE_AF :  99.5778 %\n",
      "Train Accuracy of   TSC : 100.0000 %\n",
      "Train Accuracy of    DG :  96.5937 %\n",
      "Train Accuracy of KRACK_DG :  97.9727 %\n",
      "Training Accuracy:  0.9910244181996364\n"
     ]
    },
    {
     "data": {
      "application/vnd.jupyter.widget-view+json": {
       "model_id": "a89010f141d14a03b770ddd1f46b7984",
       "version_major": 2,
       "version_minor": 0
      },
      "text/plain": [
       "  0%|          | 0/96 [00:00<?, ?it/s]"
      ]
     },
     "metadata": {},
     "output_type": "display_data"
    },
    {
     "name": "stdout",
     "output_type": "stream",
     "text": [
      "Valid Accuracy of benign: 97.6000%\n",
      "Valid Accuracy of BF: 100.0000%\n",
      "Valid Accuracy of Deauth: 100.0000%\n",
      "Valid Accuracy of SAE_CV: 100.0000%\n",
      "Valid Accuracy of UGD: 100.0000%\n",
      "Valid Accuracy of SAE_AF: 99.7000%\n",
      "Valid Accuracy of TSC: 100.0000%\n",
      "Valid Accuracy of DG: 96.2389%\n",
      "Valid Accuracy of KRACK_DG: 97.6109%\n",
      "Valid Accuracy: 0.9902 | Valid Loss: 0.0001\n",
      "learning rate: [1.0000000000000004e-08]\n",
      "\n",
      "Epoch: 41/50 --- < Starting Time : Fri Aug  2 07:56:59 2024 >\n",
      "-------------------------------------------------------------\n"
     ]
    },
    {
     "data": {
      "application/vnd.jupyter.widget-view+json": {
       "model_id": "a2a86745c8944a38a3ef1af8b5f22a39",
       "version_major": 2,
       "version_minor": 0
      },
      "text/plain": [
       "  0%|          | 0/863 [00:00<?, ?it/s]"
      ]
     },
     "metadata": {},
     "output_type": "display_data"
    },
    {
     "name": "stdout",
     "output_type": "stream",
     "text": [
      "Train Accuracy of benign :  97.7778 %\n",
      "Train Accuracy of    BF : 100.0000 %\n",
      "Train Accuracy of Deauth : 100.0000 %\n",
      "Train Accuracy of SAE_CV : 100.0000 %\n",
      "Train Accuracy of   UGD : 100.0000 %\n",
      "Train Accuracy of SAE_AF :  99.5778 %\n",
      "Train Accuracy of   TSC : 100.0000 %\n",
      "Train Accuracy of    DG :  96.5937 %\n",
      "Train Accuracy of KRACK_DG :  97.9727 %\n",
      "Training Accuracy:  0.9910244181996364\n"
     ]
    },
    {
     "data": {
      "application/vnd.jupyter.widget-view+json": {
       "model_id": "3903dfb7469d42d7968267a300871bd0",
       "version_major": 2,
       "version_minor": 0
      },
      "text/plain": [
       "  0%|          | 0/96 [00:00<?, ?it/s]"
      ]
     },
     "metadata": {},
     "output_type": "display_data"
    },
    {
     "name": "stdout",
     "output_type": "stream",
     "text": [
      "Valid Accuracy of benign: 97.6000%\n",
      "Valid Accuracy of BF: 100.0000%\n",
      "Valid Accuracy of Deauth: 100.0000%\n",
      "Valid Accuracy of SAE_CV: 100.0000%\n",
      "Valid Accuracy of UGD: 100.0000%\n",
      "Valid Accuracy of SAE_AF: 99.7000%\n",
      "Valid Accuracy of TSC: 100.0000%\n",
      "Valid Accuracy of DG: 96.2389%\n",
      "Valid Accuracy of KRACK_DG: 97.6109%\n",
      "Valid Accuracy: 0.9902 | Valid Loss: 0.0000\n",
      "learning rate: [1.0000000000000005e-09]\n",
      "\n",
      "Epoch: 42/50 --- < Starting Time : Fri Aug  2 07:57:03 2024 >\n",
      "-------------------------------------------------------------\n"
     ]
    },
    {
     "data": {
      "application/vnd.jupyter.widget-view+json": {
       "model_id": "32d32e88dd15428d8b668fcfe780b033",
       "version_major": 2,
       "version_minor": 0
      },
      "text/plain": [
       "  0%|          | 0/863 [00:00<?, ?it/s]"
      ]
     },
     "metadata": {},
     "output_type": "display_data"
    },
    {
     "name": "stdout",
     "output_type": "stream",
     "text": [
      "Train Accuracy of benign :  97.7778 %\n",
      "Train Accuracy of    BF : 100.0000 %\n",
      "Train Accuracy of Deauth : 100.0000 %\n",
      "Train Accuracy of SAE_CV : 100.0000 %\n",
      "Train Accuracy of   UGD : 100.0000 %\n",
      "Train Accuracy of SAE_AF :  99.5778 %\n",
      "Train Accuracy of   TSC : 100.0000 %\n",
      "Train Accuracy of    DG :  96.5937 %\n",
      "Train Accuracy of KRACK_DG :  97.9727 %\n",
      "Training Accuracy:  0.9910244181996364\n"
     ]
    },
    {
     "data": {
      "application/vnd.jupyter.widget-view+json": {
       "model_id": "9d9454b4511449399ff2ca639c84662a",
       "version_major": 2,
       "version_minor": 0
      },
      "text/plain": [
       "  0%|          | 0/96 [00:00<?, ?it/s]"
      ]
     },
     "metadata": {},
     "output_type": "display_data"
    },
    {
     "name": "stdout",
     "output_type": "stream",
     "text": [
      "Valid Accuracy of benign: 97.6000%\n",
      "Valid Accuracy of BF: 100.0000%\n",
      "Valid Accuracy of Deauth: 100.0000%\n",
      "Valid Accuracy of SAE_CV: 100.0000%\n",
      "Valid Accuracy of UGD: 100.0000%\n",
      "Valid Accuracy of SAE_AF: 99.7000%\n",
      "Valid Accuracy of TSC: 100.0000%\n",
      "Valid Accuracy of DG: 96.2389%\n",
      "Valid Accuracy of KRACK_DG: 97.6109%\n",
      "Valid Accuracy: 0.9902 | Valid Loss: 0.0000\n",
      "learning rate: [1.0000000000000005e-09]\n",
      "\n",
      "Epoch: 43/50 --- < Starting Time : Fri Aug  2 07:57:06 2024 >\n",
      "-------------------------------------------------------------\n"
     ]
    },
    {
     "data": {
      "application/vnd.jupyter.widget-view+json": {
       "model_id": "066ae6cb256a4e77884c0da3859d30bc",
       "version_major": 2,
       "version_minor": 0
      },
      "text/plain": [
       "  0%|          | 0/863 [00:00<?, ?it/s]"
      ]
     },
     "metadata": {},
     "output_type": "display_data"
    },
    {
     "name": "stdout",
     "output_type": "stream",
     "text": [
      "Train Accuracy of benign :  97.7778 %\n",
      "Train Accuracy of    BF : 100.0000 %\n",
      "Train Accuracy of Deauth : 100.0000 %\n",
      "Train Accuracy of SAE_CV : 100.0000 %\n",
      "Train Accuracy of   UGD : 100.0000 %\n",
      "Train Accuracy of SAE_AF :  99.5778 %\n",
      "Train Accuracy of   TSC : 100.0000 %\n",
      "Train Accuracy of    DG :  96.5937 %\n",
      "Train Accuracy of KRACK_DG :  97.9727 %\n",
      "Training Accuracy:  0.9910244181996364\n"
     ]
    },
    {
     "data": {
      "application/vnd.jupyter.widget-view+json": {
       "model_id": "c9f3cf907ec249ff8aedeedaec9f20ee",
       "version_major": 2,
       "version_minor": 0
      },
      "text/plain": [
       "  0%|          | 0/96 [00:00<?, ?it/s]"
      ]
     },
     "metadata": {},
     "output_type": "display_data"
    },
    {
     "name": "stdout",
     "output_type": "stream",
     "text": [
      "Valid Accuracy of benign: 97.6000%\n",
      "Valid Accuracy of BF: 100.0000%\n",
      "Valid Accuracy of Deauth: 100.0000%\n",
      "Valid Accuracy of SAE_CV: 100.0000%\n",
      "Valid Accuracy of UGD: 100.0000%\n",
      "Valid Accuracy of SAE_AF: 99.7000%\n",
      "Valid Accuracy of TSC: 100.0000%\n",
      "Valid Accuracy of DG: 96.2389%\n",
      "Valid Accuracy of KRACK_DG: 97.6109%\n",
      "Valid Accuracy: 0.9902 | Valid Loss: 0.0001\n",
      "learning rate: [1.0000000000000005e-09]\n",
      "\n",
      "Epoch: 44/50 --- < Starting Time : Fri Aug  2 07:57:10 2024 >\n",
      "-------------------------------------------------------------\n"
     ]
    },
    {
     "data": {
      "application/vnd.jupyter.widget-view+json": {
       "model_id": "3c847264b000400f8e05420540577d9f",
       "version_major": 2,
       "version_minor": 0
      },
      "text/plain": [
       "  0%|          | 0/863 [00:00<?, ?it/s]"
      ]
     },
     "metadata": {},
     "output_type": "display_data"
    },
    {
     "name": "stdout",
     "output_type": "stream",
     "text": [
      "Train Accuracy of benign :  97.7778 %\n",
      "Train Accuracy of    BF : 100.0000 %\n",
      "Train Accuracy of Deauth : 100.0000 %\n",
      "Train Accuracy of SAE_CV : 100.0000 %\n",
      "Train Accuracy of   UGD : 100.0000 %\n",
      "Train Accuracy of SAE_AF :  99.5778 %\n",
      "Train Accuracy of   TSC : 100.0000 %\n",
      "Train Accuracy of    DG :  96.5937 %\n",
      "Train Accuracy of KRACK_DG :  97.9727 %\n",
      "Training Accuracy:  0.9910244181996364\n"
     ]
    },
    {
     "data": {
      "application/vnd.jupyter.widget-view+json": {
       "model_id": "7b646930499d4b86a2ea5d1ec6640b45",
       "version_major": 2,
       "version_minor": 0
      },
      "text/plain": [
       "  0%|          | 0/96 [00:00<?, ?it/s]"
      ]
     },
     "metadata": {},
     "output_type": "display_data"
    },
    {
     "name": "stdout",
     "output_type": "stream",
     "text": [
      "Valid Accuracy of benign: 97.6000%\n",
      "Valid Accuracy of BF: 100.0000%\n",
      "Valid Accuracy of Deauth: 100.0000%\n",
      "Valid Accuracy of SAE_CV: 100.0000%\n",
      "Valid Accuracy of UGD: 100.0000%\n",
      "Valid Accuracy of SAE_AF: 99.7000%\n",
      "Valid Accuracy of TSC: 100.0000%\n",
      "Valid Accuracy of DG: 96.2389%\n",
      "Valid Accuracy of KRACK_DG: 97.6109%\n",
      "Valid Accuracy: 0.9902 | Valid Loss: 0.0002\n",
      "learning rate: [1.0000000000000005e-09]\n",
      "\n",
      "Epoch: 45/50 --- < Starting Time : Fri Aug  2 07:57:13 2024 >\n",
      "-------------------------------------------------------------\n"
     ]
    },
    {
     "data": {
      "application/vnd.jupyter.widget-view+json": {
       "model_id": "47767cee45f147ba9707c5834a8119bb",
       "version_major": 2,
       "version_minor": 0
      },
      "text/plain": [
       "  0%|          | 0/863 [00:00<?, ?it/s]"
      ]
     },
     "metadata": {},
     "output_type": "display_data"
    },
    {
     "name": "stdout",
     "output_type": "stream",
     "text": [
      "Train Accuracy of benign :  97.7778 %\n",
      "Train Accuracy of    BF : 100.0000 %\n",
      "Train Accuracy of Deauth : 100.0000 %\n",
      "Train Accuracy of SAE_CV : 100.0000 %\n",
      "Train Accuracy of   UGD : 100.0000 %\n",
      "Train Accuracy of SAE_AF :  99.5778 %\n",
      "Train Accuracy of   TSC : 100.0000 %\n",
      "Train Accuracy of    DG :  96.5937 %\n",
      "Train Accuracy of KRACK_DG :  97.9727 %\n",
      "Training Accuracy:  0.9910244181996364\n"
     ]
    },
    {
     "data": {
      "application/vnd.jupyter.widget-view+json": {
       "model_id": "a2887f418d4e4a86b2b8d6852027a631",
       "version_major": 2,
       "version_minor": 0
      },
      "text/plain": [
       "  0%|          | 0/96 [00:00<?, ?it/s]"
      ]
     },
     "metadata": {},
     "output_type": "display_data"
    },
    {
     "name": "stdout",
     "output_type": "stream",
     "text": [
      "Valid Accuracy of benign: 97.6000%\n",
      "Valid Accuracy of BF: 100.0000%\n",
      "Valid Accuracy of Deauth: 100.0000%\n",
      "Valid Accuracy of SAE_CV: 100.0000%\n",
      "Valid Accuracy of UGD: 100.0000%\n",
      "Valid Accuracy of SAE_AF: 99.7000%\n",
      "Valid Accuracy of TSC: 100.0000%\n",
      "Valid Accuracy of DG: 96.2389%\n",
      "Valid Accuracy of KRACK_DG: 97.6109%\n",
      "Valid Accuracy: 0.9902 | Valid Loss: 0.0000\n",
      "learning rate: [1.0000000000000005e-09]\n",
      "\n",
      "Epoch: 46/50 --- < Starting Time : Fri Aug  2 07:57:17 2024 >\n",
      "-------------------------------------------------------------\n"
     ]
    },
    {
     "data": {
      "application/vnd.jupyter.widget-view+json": {
       "model_id": "1c5b81090ba846bdbe35ceaf62dad539",
       "version_major": 2,
       "version_minor": 0
      },
      "text/plain": [
       "  0%|          | 0/863 [00:00<?, ?it/s]"
      ]
     },
     "metadata": {},
     "output_type": "display_data"
    },
    {
     "name": "stdout",
     "output_type": "stream",
     "text": [
      "Train Accuracy of benign :  97.7778 %\n",
      "Train Accuracy of    BF : 100.0000 %\n",
      "Train Accuracy of Deauth : 100.0000 %\n",
      "Train Accuracy of SAE_CV : 100.0000 %\n",
      "Train Accuracy of   UGD : 100.0000 %\n",
      "Train Accuracy of SAE_AF :  99.5778 %\n",
      "Train Accuracy of   TSC : 100.0000 %\n",
      "Train Accuracy of    DG :  96.5937 %\n",
      "Train Accuracy of KRACK_DG :  97.9727 %\n",
      "Training Accuracy:  0.9910244181996364\n"
     ]
    },
    {
     "data": {
      "application/vnd.jupyter.widget-view+json": {
       "model_id": "c7ec8580377c414a8a9a7a1f8571bcee",
       "version_major": 2,
       "version_minor": 0
      },
      "text/plain": [
       "  0%|          | 0/96 [00:00<?, ?it/s]"
      ]
     },
     "metadata": {},
     "output_type": "display_data"
    },
    {
     "name": "stdout",
     "output_type": "stream",
     "text": [
      "Valid Accuracy of benign: 97.6000%\n",
      "Valid Accuracy of BF: 100.0000%\n",
      "Valid Accuracy of Deauth: 100.0000%\n",
      "Valid Accuracy of SAE_CV: 100.0000%\n",
      "Valid Accuracy of UGD: 100.0000%\n",
      "Valid Accuracy of SAE_AF: 99.7000%\n",
      "Valid Accuracy of TSC: 100.0000%\n",
      "Valid Accuracy of DG: 96.2389%\n",
      "Valid Accuracy of KRACK_DG: 97.6109%\n",
      "Valid Accuracy: 0.9902 | Valid Loss: 0.0005\n",
      "learning rate: [1.0000000000000005e-09]\n",
      "\n",
      "Epoch: 47/50 --- < Starting Time : Fri Aug  2 07:57:23 2024 >\n",
      "-------------------------------------------------------------\n"
     ]
    },
    {
     "data": {
      "application/vnd.jupyter.widget-view+json": {
       "model_id": "70e02763f1be487382e56d413224f797",
       "version_major": 2,
       "version_minor": 0
      },
      "text/plain": [
       "  0%|          | 0/863 [00:00<?, ?it/s]"
      ]
     },
     "metadata": {},
     "output_type": "display_data"
    },
    {
     "name": "stdout",
     "output_type": "stream",
     "text": [
      "Train Accuracy of benign :  97.7778 %\n",
      "Train Accuracy of    BF : 100.0000 %\n",
      "Train Accuracy of Deauth : 100.0000 %\n",
      "Train Accuracy of SAE_CV : 100.0000 %\n",
      "Train Accuracy of   UGD : 100.0000 %\n",
      "Train Accuracy of SAE_AF :  99.5778 %\n",
      "Train Accuracy of   TSC : 100.0000 %\n",
      "Train Accuracy of    DG :  96.5937 %\n",
      "Train Accuracy of KRACK_DG :  97.9727 %\n",
      "Training Accuracy:  0.9910244181996364\n"
     ]
    },
    {
     "data": {
      "application/vnd.jupyter.widget-view+json": {
       "model_id": "7be1a437123340bbafad0b85c7b9c59a",
       "version_major": 2,
       "version_minor": 0
      },
      "text/plain": [
       "  0%|          | 0/96 [00:00<?, ?it/s]"
      ]
     },
     "metadata": {},
     "output_type": "display_data"
    },
    {
     "name": "stdout",
     "output_type": "stream",
     "text": [
      "Valid Accuracy of benign: 97.6000%\n",
      "Valid Accuracy of BF: 100.0000%\n",
      "Valid Accuracy of Deauth: 100.0000%\n",
      "Valid Accuracy of SAE_CV: 100.0000%\n",
      "Valid Accuracy of UGD: 100.0000%\n",
      "Valid Accuracy of SAE_AF: 99.7000%\n",
      "Valid Accuracy of TSC: 100.0000%\n",
      "Valid Accuracy of DG: 96.2389%\n",
      "Valid Accuracy of KRACK_DG: 97.6109%\n",
      "Valid Accuracy: 0.9902 | Valid Loss: 0.0000\n",
      "learning rate: [1.0000000000000005e-09]\n",
      "\n",
      "Epoch: 48/50 --- < Starting Time : Fri Aug  2 07:57:29 2024 >\n",
      "-------------------------------------------------------------\n"
     ]
    },
    {
     "data": {
      "application/vnd.jupyter.widget-view+json": {
       "model_id": "0effa16e4ba34adb947b2cf37a94cabe",
       "version_major": 2,
       "version_minor": 0
      },
      "text/plain": [
       "  0%|          | 0/863 [00:00<?, ?it/s]"
      ]
     },
     "metadata": {},
     "output_type": "display_data"
    },
    {
     "name": "stdout",
     "output_type": "stream",
     "text": [
      "Train Accuracy of benign :  97.7778 %\n",
      "Train Accuracy of    BF : 100.0000 %\n",
      "Train Accuracy of Deauth : 100.0000 %\n",
      "Train Accuracy of SAE_CV : 100.0000 %\n",
      "Train Accuracy of   UGD : 100.0000 %\n",
      "Train Accuracy of SAE_AF :  99.5778 %\n",
      "Train Accuracy of   TSC : 100.0000 %\n",
      "Train Accuracy of    DG :  96.5937 %\n",
      "Train Accuracy of KRACK_DG :  97.9727 %\n",
      "Training Accuracy:  0.9910244181996364\n"
     ]
    },
    {
     "data": {
      "application/vnd.jupyter.widget-view+json": {
       "model_id": "ec797184dc894e58b14b298aebd5cac0",
       "version_major": 2,
       "version_minor": 0
      },
      "text/plain": [
       "  0%|          | 0/96 [00:00<?, ?it/s]"
      ]
     },
     "metadata": {},
     "output_type": "display_data"
    },
    {
     "name": "stdout",
     "output_type": "stream",
     "text": [
      "Valid Accuracy of benign: 97.6000%\n",
      "Valid Accuracy of BF: 100.0000%\n",
      "Valid Accuracy of Deauth: 100.0000%\n",
      "Valid Accuracy of SAE_CV: 100.0000%\n",
      "Valid Accuracy of UGD: 100.0000%\n",
      "Valid Accuracy of SAE_AF: 99.7000%\n",
      "Valid Accuracy of TSC: 100.0000%\n",
      "Valid Accuracy of DG: 96.2389%\n",
      "Valid Accuracy of KRACK_DG: 97.6109%\n",
      "Valid Accuracy: 0.9902 | Valid Loss: 0.0001\n",
      "learning rate: [1.0000000000000006e-10]\n",
      "\n",
      "Epoch: 49/50 --- < Starting Time : Fri Aug  2 07:57:36 2024 >\n",
      "-------------------------------------------------------------\n"
     ]
    },
    {
     "data": {
      "application/vnd.jupyter.widget-view+json": {
       "model_id": "929c6dbbce0e4976818dd285557dddec",
       "version_major": 2,
       "version_minor": 0
      },
      "text/plain": [
       "  0%|          | 0/863 [00:00<?, ?it/s]"
      ]
     },
     "metadata": {},
     "output_type": "display_data"
    },
    {
     "name": "stdout",
     "output_type": "stream",
     "text": [
      "Train Accuracy of benign :  97.7778 %\n",
      "Train Accuracy of    BF : 100.0000 %\n",
      "Train Accuracy of Deauth : 100.0000 %\n",
      "Train Accuracy of SAE_CV : 100.0000 %\n",
      "Train Accuracy of   UGD : 100.0000 %\n",
      "Train Accuracy of SAE_AF :  99.5778 %\n",
      "Train Accuracy of   TSC : 100.0000 %\n",
      "Train Accuracy of    DG :  96.5937 %\n",
      "Train Accuracy of KRACK_DG :  97.9727 %\n",
      "Training Accuracy:  0.9910244181996364\n"
     ]
    },
    {
     "data": {
      "application/vnd.jupyter.widget-view+json": {
       "model_id": "996754bafbaa4484ba620af1762cfc93",
       "version_major": 2,
       "version_minor": 0
      },
      "text/plain": [
       "  0%|          | 0/96 [00:00<?, ?it/s]"
      ]
     },
     "metadata": {},
     "output_type": "display_data"
    },
    {
     "name": "stdout",
     "output_type": "stream",
     "text": [
      "Valid Accuracy of benign: 97.6000%\n",
      "Valid Accuracy of BF: 100.0000%\n",
      "Valid Accuracy of Deauth: 100.0000%\n",
      "Valid Accuracy of SAE_CV: 100.0000%\n",
      "Valid Accuracy of UGD: 100.0000%\n",
      "Valid Accuracy of SAE_AF: 99.7000%\n",
      "Valid Accuracy of TSC: 100.0000%\n",
      "Valid Accuracy of DG: 96.2389%\n",
      "Valid Accuracy of KRACK_DG: 97.6109%\n",
      "Valid Accuracy: 0.9902 | Valid Loss: 0.0040\n",
      "learning rate: [1.0000000000000006e-10]\n",
      "\n",
      "Epoch: 50/50 --- < Starting Time : Fri Aug  2 07:57:42 2024 >\n",
      "-------------------------------------------------------------\n"
     ]
    },
    {
     "data": {
      "application/vnd.jupyter.widget-view+json": {
       "model_id": "30763c045c5844918c68ab9b9505815f",
       "version_major": 2,
       "version_minor": 0
      },
      "text/plain": [
       "  0%|          | 0/863 [00:00<?, ?it/s]"
      ]
     },
     "metadata": {},
     "output_type": "display_data"
    },
    {
     "name": "stdout",
     "output_type": "stream",
     "text": [
      "Train Accuracy of benign :  97.7778 %\n",
      "Train Accuracy of    BF : 100.0000 %\n",
      "Train Accuracy of Deauth : 100.0000 %\n",
      "Train Accuracy of SAE_CV : 100.0000 %\n",
      "Train Accuracy of   UGD : 100.0000 %\n",
      "Train Accuracy of SAE_AF :  99.5778 %\n",
      "Train Accuracy of   TSC : 100.0000 %\n",
      "Train Accuracy of    DG :  96.5937 %\n",
      "Train Accuracy of KRACK_DG :  97.9727 %\n",
      "Training Accuracy:  0.9910244181996364\n"
     ]
    },
    {
     "data": {
      "application/vnd.jupyter.widget-view+json": {
       "model_id": "271fa0dc37264aecb305a3d207af377f",
       "version_major": 2,
       "version_minor": 0
      },
      "text/plain": [
       "  0%|          | 0/96 [00:00<?, ?it/s]"
      ]
     },
     "metadata": {},
     "output_type": "display_data"
    },
    {
     "name": "stdout",
     "output_type": "stream",
     "text": [
      "Valid Accuracy of benign: 97.6000%\n",
      "Valid Accuracy of BF: 100.0000%\n",
      "Valid Accuracy of Deauth: 100.0000%\n",
      "Valid Accuracy of SAE_CV: 100.0000%\n",
      "Valid Accuracy of UGD: 100.0000%\n",
      "Valid Accuracy of SAE_AF: 99.7000%\n",
      "Valid Accuracy of TSC: 100.0000%\n",
      "Valid Accuracy of DG: 96.2389%\n",
      "Valid Accuracy of KRACK_DG: 97.6109%\n",
      "Valid Accuracy: 0.9902 | Valid Loss: 0.0000\n",
      "Best model save to: .//home/sun10/IDS/upload/result/balance_20240802-075320/pth/model-best_val_acc.pth\n",
      "Number of parameter: 0.24M\n"
     ]
    }
   ],
   "source": [
    "gamma = 0.1  # 0.1 0.01 0.001\n",
    "init_lr = 0.001  # 0.01 0.001 1e-3\n",
    "EPOCH = 50\n",
    "BATCH_SIZE = 64  # 64 128\n",
    "RL_STEP = 7\n",
    "input_size = len(use_feat.keys()) - 1  # 輸入特徵的維度 (扣掉label)\n",
    "hidden_size = 64\n",
    "num_layers = 3\n",
    "\n",
    "hyper_parameter = {\n",
    "    \"batch_size\": BATCH_SIZE,\n",
    "    \"epoch\": EPOCH,\n",
    "    \"gamma\": gamma,\n",
    "    \"learning_rate_step\": RL_STEP,\n",
    "    \"learning_rate\": init_lr,\n",
    "    \"input_size\": input_size,\n",
    "    \"hidden_size\": hidden_size,\n",
    "    \"num_layers\": num_layers,\n",
    "}\n",
    "\n",
    "\n",
    "save_path = f\"{root_path}/result\"\n",
    "use_class = WIDS_class_list\n",
    "train_data_path = f\"{root_path}/sampling/train_data.npy\"\n",
    "train_lable_path = f\"{root_path}/sampling/train_label.npy\"\n",
    "\n",
    "num_classes = len(use_class)\n",
    "subdir = f\"{save_path}/balance_\" + str(\n",
    "    datetime.strftime(datetime.now(), \"%Y%m%d-%H%M%S\")\n",
    ")\n",
    "model = BiLSTM(\n",
    "    input_size=hyper_parameter[\"input_size\"],\n",
    "    hidden_size=hyper_parameter[\"hidden_size\"],\n",
    "    num_layers=hyper_parameter[\"num_layers\"],\n",
    "    num_classes=num_classes\n",
    ")\n",
    "\n",
    "Train_LSTM(model, train_data_path,\n",
    "            train_lable_path, subdir, hyper_parameter, use_class)\n",
    "# 紀錄所有參數\n",
    "for k, v in hyper_parameter.items():\n",
    "    with open(f\"{subdir}/hyper_parameter.txt\", \"a\") as file:\n",
    "        file.write(f\"{k}={v}\\n\")\n"
   ]
  },
  {
   "cell_type": "markdown",
   "metadata": {},
   "source": [
    "## Testing"
   ]
  },
  {
   "cell_type": "code",
   "execution_count": 31,
   "metadata": {},
   "outputs": [
    {
     "data": {
      "application/vnd.jupyter.widget-view+json": {
       "model_id": "6f043c56cbf248ac8a5d754ba13aebe7",
       "version_major": 2,
       "version_minor": 0
      },
      "text/plain": [
       "  0%|          | 0/855 [00:00<?, ?it/s]"
      ]
     },
     "metadata": {},
     "output_type": "display_data"
    },
    {
     "name": "stdout",
     "output_type": "stream",
     "text": [
      "Accuracy of benign :    97.68 %\n",
      "Accuracy of    BF :   100.00 %\n",
      "Accuracy of Deauth :   100.00 %\n",
      "Accuracy of SAE_CV :   100.00 %\n",
      "Accuracy of   UGD :   100.00 %\n",
      "Accuracy of SAE_AF :    99.66 %\n",
      "Accuracy of   TSC :   100.00 %\n",
      "Accuracy of    DG :    96.77 %\n",
      "Accuracy of KRACK_DG :    97.34 %\n",
      "\n",
      "Accuracy on the ALL test classes: 99.049844 %\n",
      "f1: 0.96091694802155\n"
     ]
    }
   ],
   "source": [
    "def data_normalized(data):\n",
    "    # 對欄位一到四進行 Min-Max normalization\n",
    "    min_max_scaler = MinMaxScaler()\n",
    "\n",
    "    column_one = min_max_scaler.fit_transform(data[:, :1])\n",
    "    column_two = min_max_scaler.fit_transform(data[:, 1:2])\n",
    "    column_three = min_max_scaler.fit_transform(data[:, 2:3])\n",
    "    column_four = min_max_scaler.fit_transform(data[:, 3:4])\n",
    "\n",
    "    # 將 Min-Max normalization 後的部分和 one-hot encoding 後的部分重新組合成最終的資料\n",
    "    normalized_data = np.concatenate(\n",
    "        (column_one, column_two, column_three, column_four, data[:, 4:]), axis=1)\n",
    "    return normalized_data\n",
    "\n",
    "# load testing data\n",
    "data = np.load(f\"{root_path}/sampling/test_data.npy\")\n",
    "label = np.load(f\"{root_path}/sampling/test_label.npy\")\n",
    "test_num = len(data)\n",
    "\n",
    "test_data = data_normalized(data)\n",
    "test_data = torch.tensor(test_data, dtype=torch.float)\n",
    "\n",
    "test_set = TensorDataset(test_data, torch.tensor(label, dtype=torch.float))\n",
    "test_loader = DataLoader(test_set, batch_size=hyper_parameter['batch_size'], shuffle=True)\n",
    "\n",
    "\n",
    "model_path = f\"{subdir}/pth/model-best_val_acc.pth\"\n",
    "model = BiLSTM(\n",
    "    input_size=hyper_parameter[\"input_size\"],\n",
    "    hidden_size=hyper_parameter[\"hidden_size\"],\n",
    "    num_layers=hyper_parameter[\"num_layers\"],\n",
    "    num_classes=len(use_class)\n",
    ")\n",
    "model.load_state_dict(torch.load(model_path))\n",
    "model.cuda(device=device)\n",
    "model.eval()\n",
    "\n",
    "true_label = []\n",
    "pre_label = []\n",
    "total_correct = 0\n",
    "total_false = 0\n",
    "total = 0\n",
    "class_correct = list(0.0 for i in enumerate(use_class))\n",
    "class_total = list(0.0 for i in enumerate(use_class))\n",
    "\n",
    "with torch.no_grad():\n",
    "    for inputs, labels in tqdm(test_loader):\n",
    "        inputs = inputs.cuda(device=device)\n",
    "        labels = labels.cuda(device=device)\n",
    "        inputs = inputs.unsqueeze(1)  # 增加一個新的維度來表示通道\n",
    "        outputs = model(inputs)\n",
    "\n",
    "        _, predicted = torch.max(outputs.data, 1)\n",
    "\n",
    "        for i in range(len(predicted)):\n",
    "            pre_label.append((predicted[i].cpu()).item())\n",
    "        true_label += (labels.cpu()).tolist()\n",
    "\n",
    "        # totoal\n",
    "        total += labels.size(0)\n",
    "        total_correct += (predicted == labels).sum().item()\n",
    "        total_false += (predicted != labels).sum().item()\n",
    "        c = (predicted == labels).squeeze()\n",
    "        for i in range(labels.size(0)):\n",
    "            label = int(labels[i])\n",
    "            class_correct[label] += c[i].item()\n",
    "            class_total[label] += 1\n",
    "\n",
    "    total_acc = 0\n",
    "    with open(f\"{subdir}/Test_Accuracy.txt\", \"w\") as file:\n",
    "        for i, c in enumerate(use_class):\n",
    "            try:\n",
    "                print(\n",
    "                    \"Accuracy of %5s : %8.2f %%\"\n",
    "                    % (c, 100 * class_correct[i] / class_total[i])\n",
    "                )\n",
    "                file.write(\n",
    "                    \"%5s: %8.2f %%\\n\"\n",
    "                    % (c, 100 * class_correct[i] / class_total[i])\n",
    "                )\n",
    "                total_acc += (class_correct[i] /\n",
    "                            class_total[i]) / len(use_class)\n",
    "            except ZeroDivisionError:\n",
    "                print(\"Accuracy of %5s : %8f %%\" % (c, 0))\n",
    "                file.write(\"%5s: %8.2f %%\\n\" % (c, 0))\n",
    "                total_acc += 0\n",
    "        print(\"\\nAccuracy on the ALL test classes: %f %%\" % (total_acc * 100))\n",
    "        file.write(\"Accuracy on the ALL test classes: %f %%\\n\" % (total_acc * 100))\n",
    "\n",
    "    f1 = f1_score(true_label, pre_label, average='macro', zero_division=1)\n",
    "    print(f\"f1: {f1}\")\n",
    "    "
   ]
  },
  {
   "cell_type": "code",
   "execution_count": 45,
   "metadata": {},
   "outputs": [],
   "source": [
    "draw_confusion_matrix(true_label, pre_label, use_class, subdir)"
   ]
  }
 ],
 "metadata": {
  "kernelspec": {
   "display_name": "IDS",
   "language": "python",
   "name": "python3"
  },
  "language_info": {
   "codemirror_mode": {
    "name": "ipython",
    "version": 3
   },
   "file_extension": ".py",
   "mimetype": "text/x-python",
   "name": "python",
   "nbconvert_exporter": "python",
   "pygments_lexer": "ipython3",
   "version": "3.8.10"
  }
 },
 "nbformat": 4,
 "nbformat_minor": 2
}
